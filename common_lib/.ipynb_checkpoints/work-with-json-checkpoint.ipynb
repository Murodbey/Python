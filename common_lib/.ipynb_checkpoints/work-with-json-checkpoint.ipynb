{
 "cells": [
  {
   "cell_type": "markdown",
   "metadata": {},
   "source": [
    "## Working with Json data"
   ]
  },
  {
   "cell_type": "code",
   "execution_count": null,
   "metadata": {},
   "outputs": [],
   "source": [
    "import json\n",
    "\n",
    "with open('data.json') as data_json:\n",
    "    data = json.load(data_json)\n",
    "\n",
    "print(data['items'][0]['group'])"
   ]
  },
  {
   "cell_type": "code",
   "execution_count": null,
   "metadata": {},
   "outputs": [],
   "source": [
    "#python3.6 -m pip install json"
   ]
  },
  {
   "cell_type": "markdown",
   "metadata": {},
   "source": [
    "## Working with Functions and JSON data\n",
    "1. Create function call print_my_data\n",
    "    1. Function should go take argument integer\n",
    "    2. Function should iterate the all data\n",
    "    3. Print the data \n",
    "\n",
    "2. Create function which will ask from user repo name\n",
    "    1. Input from user reponame\n",
    "    2. Look for the repo from data\n",
    "    3. As soon as function found should print reponame\n",
    "\n",
    "3. Create a function call does_repo_exist\n",
    "    1. Function take argument repo_name\n",
    "    2. Iterate the all data\n",
    "    3. Check for each data\n",
    "    4. If data matches with repo_name print the data"
   ]
  },
  {
   "cell_type": "code",
   "execution_count": null,
   "metadata": {},
   "outputs": [],
   "source": [
    "1.\n",
    "import json\n",
    "\n",
    "with open('data.json') as data_json:\n",
    "    data = json.load(data_json)\n",
    "    \n",
    "def print_my_data(integer):\n",
    "    print(data['items'][integer])\n",
    "    \n",
    "print_my_data(1)"
   ]
  },
  {
   "cell_type": "code",
   "execution_count": null,
   "metadata": {},
   "outputs": [],
   "source": [
    "2.\n",
    "import json\n",
    "\n",
    "with open('data.json') as data_json:\n",
    "    data = json.load(data_json)\n",
    "    \n",
    "def find_repo():\n",
    "    reponame = input('please enter user reponame :')\n",
    "    for repo in data['items']:\n",
    "        if reponame == repo['name']:\n",
    "            print(repo['name'])\n",
    "#         else:\n",
    "#             print('repo does not exist')\n",
    "\n",
    "find_repo()"
   ]
  },
  {
   "cell_type": "code",
   "execution_count": 9,
   "metadata": {},
   "outputs": [
    {
     "name": "stdout",
     "output_type": "stream",
     "text": [
      "{'id': 'd2VicGxhdGZvcm06Yzc3MDE2OWMwYjJlM2VkOGVmMzU2YWE0ZTliMmZlNDY', 'repository': 'webplatform', 'format': 'docker', 'group': None, 'name': 'webplatform-dev', 'version': '0.10', 'assets': [{'downloadUrl': 'https://nexus.fuchicorp.com/repository/webplatform/v2/webplatform-dev/manifests/0.10', 'path': 'v2/webplatform-dev/manifests/0.10', 'id': 'd2VicGxhdGZvcm06MzZlM2RlYzhkZTUyOGM5YjI5YmM0MTlkOGY0MTdiMDQ', 'repository': 'webplatform', 'format': 'docker', 'checksum': {'sha1': '8225b6cf948b749c5057f48cde4394e924ac7f23', 'sha256': '3c20298a3aaa07145c18635c801f21d4db78cadcc5211a152a2fece91a81da2f'}}]}\n"
     ]
    }
   ],
   "source": [
    "3.\n",
    "import json\n",
    "\n",
    "with open('data.json') as data_json:\n",
    "    data = json.load(data_json)\n",
    "    \n",
    "def does_repo_exist(repo_name):\n",
    "    for repo in data['items']:\n",
    "        if repo_name == repo['name']:\n",
    "            print(repo)\n",
    "            break\n",
    "        else:\n",
    "            print('repo not found')\n",
    "    \n",
    "does_repo_exist('webplatform-dev')"
   ]
  },
  {
   "cell_type": "code",
   "execution_count": 10,
   "metadata": {},
   "outputs": [],
   "source": [
    "my_user_list = []\n",
    "for user_num in range(1, 10):\n",
    "    my_user_list.append({'username': f'user-{user_num}',\n",
    "                         \"password\": None,\n",
    "                         \"status\": False})"
   ]
  },
  {
   "cell_type": "code",
   "execution_count": 14,
   "metadata": {},
   "outputs": [
    {
     "name": "stdout",
     "output_type": "stream",
     "text": [
      "[{'username': 'user-1', 'password': None, 'status': False}, {'username': 'user-2', 'password': None, 'status': False}, {'username': 'user-3', 'password': None, 'status': False}, {'username': 'user-4', 'password': None, 'status': False}, {'username': 'user-5', 'password': None, 'status': False}, {'username': 'user-6', 'password': None, 'status': False}, {'username': 'user-7', 'password': None, 'status': False}, {'username': 'user-8', 'password': None, 'status': False}, {'username': 'user-9', 'password': None, 'status': False}]\n",
      "[{\"username\": \"user-1\", \"password\": null, \"status\": false}, {\"username\": \"user-2\", \"password\": null, \"status\": false}, {\"username\": \"user-3\", \"password\": null, \"status\": false}, {\"username\": \"user-4\", \"password\": null, \"status\": false}, {\"username\": \"user-5\", \"password\": null, \"status\": false}, {\"username\": \"user-6\", \"password\": null, \"status\": false}, {\"username\": \"user-7\", \"password\": null, \"status\": false}, {\"username\": \"user-8\", \"password\": null, \"status\": false}, {\"username\": \"user-9\", \"password\": null, \"status\": false}]\n"
     ]
    }
   ],
   "source": [
    "my_user_list\n",
    "print(my_user_list)\n",
    "print(json.dumps(my_user_list))"
   ]
  },
  {
   "cell_type": "code",
   "execution_count": 15,
   "metadata": {},
   "outputs": [
    {
     "name": "stdout",
     "output_type": "stream",
     "text": [
      "[\n",
      "  {\n",
      "    \"username\": \"user-1\",\n",
      "    \"password\": null,\n",
      "    \"status\": false\n",
      "  },\n",
      "  {\n",
      "    \"username\": \"user-2\",\n",
      "    \"password\": null,\n",
      "    \"status\": false\n",
      "  },\n",
      "  {\n",
      "    \"username\": \"user-3\",\n",
      "    \"password\": null,\n",
      "    \"status\": false\n",
      "  },\n",
      "  {\n",
      "    \"username\": \"user-4\",\n",
      "    \"password\": null,\n",
      "    \"status\": false\n",
      "  },\n",
      "  {\n",
      "    \"username\": \"user-5\",\n",
      "    \"password\": null,\n",
      "    \"status\": false\n",
      "  },\n",
      "  {\n",
      "    \"username\": \"user-6\",\n",
      "    \"password\": null,\n",
      "    \"status\": false\n",
      "  },\n",
      "  {\n",
      "    \"username\": \"user-7\",\n",
      "    \"password\": null,\n",
      "    \"status\": false\n",
      "  },\n",
      "  {\n",
      "    \"username\": \"user-8\",\n",
      "    \"password\": null,\n",
      "    \"status\": false\n",
      "  },\n",
      "  {\n",
      "    \"username\": \"user-9\",\n",
      "    \"password\": null,\n",
      "    \"status\": false\n",
      "  }\n",
      "]\n"
     ]
    }
   ],
   "source": [
    "print(json.dumps(my_user_list, indent=2))"
   ]
  },
  {
   "cell_type": "code",
   "execution_count": 18,
   "metadata": {},
   "outputs": [],
   "source": [
    "with open('userlist.json', 'w') as my_file:\n",
    "    json.dump(my_user_list, my_file, indent=2)"
   ]
  },
  {
   "cell_type": "code",
   "execution_count": null,
   "metadata": {},
   "outputs": [],
   "source": []
  }
 ],
 "metadata": {
  "kernelspec": {
   "display_name": "Python 3",
   "language": "python",
   "name": "python3"
  },
  "language_info": {
   "codemirror_mode": {
    "name": "ipython",
    "version": 3
   },
   "file_extension": ".py",
   "mimetype": "text/x-python",
   "name": "python",
   "nbconvert_exporter": "python",
   "pygments_lexer": "ipython3",
   "version": "3.6.5"
  }
 },
 "nbformat": 4,
 "nbformat_minor": 2
}
