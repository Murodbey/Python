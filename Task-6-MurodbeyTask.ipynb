{
 "cells": [
  {
   "cell_type": "code",
   "execution_count": 6,
   "metadata": {},
   "outputs": [],
   "source": [
    "import requests\n",
    "import os\n",
    "\n",
    "auth = {\n",
    "    \"Authorization\" : \"Bearer {}\".format(os.environ.get('DIGITAL_TOKEN')),\n",
    "    \"Content-Type\"  : \"application/json\"\n",
    "}\n",
    "\n",
    "class digital_client:\n",
    "    def __init__(self):\n",
    "        \n",
    "    def get_droplets(self):\n",
    "        url = \"https://api.digitalocean.com/v2/droplets?page=1&per_page=1\"\n",
    "\n",
    "        response = requests.get(url=url, headers=auth)\n",
    "        if response.status_code == 200:\n",
    "            print(response.json())\n",
    "        else:\n",
    "            print(f'API returned {response.status_code}')\n",
    "        "
   ]
  },
  {
   "cell_type": "code",
   "execution_count": 15,
   "metadata": {},
   "outputs": [],
   "source": [
    "def droplet():\n",
    "    droplet = digital_client\n",
    "    \n",
    "droplet()"
   ]
  },
  {
   "cell_type": "code",
   "execution_count": 13,
   "metadata": {},
   "outputs": [
    {
     "name": "stdout",
     "output_type": "stream",
     "text": [
      "API returned 401\n"
     ]
    }
   ],
   "source": [
    "auth = {\n",
    "    \"Authorization\" : \"Bearer {}\".format(os.environ.get('DIGITAL_TOKEN')),\n",
    "    \"Content-Type\"  : \"application/json\"\n",
    "}\n",
    "\n",
    "def get_droplets():\n",
    "    url = \"https://api.digitalocean.com/v2/droplets?page=1&per_page=1\"\n",
    "\n",
    "    response = requests.get(url=url, headers=auth)\n",
    "    if response.status_code == 200:\n",
    "        print(response.json())\n",
    "    else:\n",
    "        print(f'API returned {response.status_code}')\n",
    "        \n",
    "        \n",
    "get_droplets()"
   ]
  },
  {
   "cell_type": "code",
   "execution_count": null,
   "metadata": {},
   "outputs": [],
   "source": []
  }
 ],
 "metadata": {
  "kernelspec": {
   "display_name": "Python 3",
   "language": "python",
   "name": "python3"
  },
  "language_info": {
   "codemirror_mode": {
    "name": "ipython",
    "version": 3
   },
   "file_extension": ".py",
   "mimetype": "text/x-python",
   "name": "python",
   "nbconvert_exporter": "python",
   "pygments_lexer": "ipython3",
   "version": "3.6.5"
  }
 },
 "nbformat": 4,
 "nbformat_minor": 2
}
