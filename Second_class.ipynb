{
 "cells": [
  {
   "cell_type": "code",
   "execution_count": 1,
   "metadata": {},
   "outputs": [
    {
     "name": "stdout",
     "output_type": "stream",
     "text": [
      "Hello World\n"
     ]
    }
   ],
   "source": [
    "print('Hello World')"
   ]
  },
  {
   "cell_type": "code",
   "execution_count": 3,
   "metadata": {},
   "outputs": [
    {
     "ename": "ModuleNotFoundError",
     "evalue": "No module named 'requests'",
     "output_type": "error",
     "traceback": [
      "\u001b[0;31m---------------------------------------------------------------------------\u001b[0m",
      "\u001b[0;31mModuleNotFoundError\u001b[0m                       Traceback (most recent call last)",
      "\u001b[0;32m<ipython-input-3-8fb124a976f9>\u001b[0m in \u001b[0;36m<module>\u001b[0;34m\u001b[0m\n\u001b[0;32m----> 1\u001b[0;31m \u001b[0;32mimport\u001b[0m \u001b[0mrequests\u001b[0m\u001b[0;34m\u001b[0m\u001b[0m\n\u001b[0m\u001b[1;32m      2\u001b[0m \u001b[0mhelp\u001b[0m \u001b[0;34m(\u001b[0m\u001b[0mrequests\u001b[0m\u001b[0;34m)\u001b[0m\u001b[0;34m\u001b[0m\u001b[0m\n",
      "\u001b[0;31mModuleNotFoundError\u001b[0m: No module named 'requests'"
     ]
    }
   ],
   "source": [
    "import requests\n",
    "help(requests)"
   ]
  },
  {
   "cell_type": "code",
   "execution_count": 17,
   "metadata": {},
   "outputs": [
    {
     "data": {
      "text/plain": [
       "True"
      ]
     },
     "execution_count": 17,
     "metadata": {},
     "output_type": "execute_result"
    }
   ],
   "source": [
    "var = True\n",
    "mystring = 'example'\n",
    "\n",
    "var is True\n",
    "mystring is 'example'\n"
   ]
  },
  {
   "cell_type": "code",
   "execution_count": 16,
   "metadata": {},
   "outputs": [
    {
     "data": {
      "text/plain": [
       "bool"
      ]
     },
     "execution_count": 16,
     "metadata": {},
     "output_type": "execute_result"
    }
   ],
   "source": [
    "var = True\n",
    "type(var)"
   ]
  },
  {
   "cell_type": "code",
   "execution_count": 18,
   "metadata": {},
   "outputs": [
    {
     "name": "stdout",
     "output_type": "stream",
     "text": [
      "1995\n"
     ]
    }
   ],
   "source": [
    "mynum = 1995\n",
    "print(mynum)"
   ]
  },
  {
   "cell_type": "code",
   "execution_count": 22,
   "metadata": {},
   "outputs": [
    {
     "data": {
      "text/plain": [
       "int"
      ]
     },
     "execution_count": 22,
     "metadata": {},
     "output_type": "execute_result"
    }
   ],
   "source": [
    "mynum = 1995\n",
    "type(mynum)"
   ]
  },
  {
   "cell_type": "code",
   "execution_count": 23,
   "metadata": {},
   "outputs": [
    {
     "name": "stdout",
     "output_type": "stream",
     "text": [
      "24\n"
     ]
    }
   ],
   "source": [
    "mynum = 1995\n",
    "\n",
    "now = 2019\n",
    "myage = now - mynum\n",
    "\n",
    "print(myage)"
   ]
  },
  {
   "cell_type": "code",
   "execution_count": 25,
   "metadata": {},
   "outputs": [
    {
     "data": {
      "text/plain": [
       "float"
      ]
     },
     "execution_count": 25,
     "metadata": {},
     "output_type": "execute_result"
    }
   ],
   "source": [
    "mynum = 1995\n",
    "now = 2019\n",
    "myfloat = 1.4\n",
    "\n",
    "type(myfloat)"
   ]
  },
  {
   "cell_type": "code",
   "execution_count": 29,
   "metadata": {},
   "outputs": [
    {
     "name": "stdout",
     "output_type": "stream",
     "text": [
      "range(3, 7)\n"
     ]
    }
   ],
   "source": [
    "mynum = 1995\n",
    "\n",
    "data = range(1, 10)\n",
    "mystring = 'Example'\n",
    "\n",
    "print(data[2:6])"
   ]
  },
  {
   "cell_type": "code",
   "execution_count": 31,
   "metadata": {},
   "outputs": [
    {
     "name": "stdout",
     "output_type": "stream",
     "text": [
      "5\n"
     ]
    }
   ],
   "source": [
    "mynum = '1995'\n",
    "\n",
    "print(mynum[3])"
   ]
  },
  {
   "cell_type": "code",
   "execution_count": 34,
   "metadata": {},
   "outputs": [
    {
     "data": {
      "text/plain": [
       "list"
      ]
     },
     "execution_count": 34,
     "metadata": {},
     "output_type": "execute_result"
    }
   ],
   "source": [
    "mylist = []\n",
    "\n",
    "type(mylist)\n",
    "#print(mylist)"
   ]
  },
  {
   "cell_type": "code",
   "execution_count": 41,
   "metadata": {},
   "outputs": [
    {
     "name": "stdout",
     "output_type": "stream",
     "text": [
      "['Abdul', 'Farkhod', 'Nodira', 'Anna']\n",
      "['Abdul', 'Farkhod', 'Nodira', 'Anna', True]\n",
      "['Abdul', 'Farkhod', 'Nodira', 'Anna']\n",
      "None\n"
     ]
    }
   ],
   "source": [
    "users = ['Abdul']\n",
    "users.append('Farkhod')\n",
    "users.append('Nodira')\n",
    "users.append('Anna')\n",
    "print(users)\n",
    "\n",
    "users.append(True)\n",
    "print(users)\n",
    "\n",
    "users.remove(True)\n",
    "print(users)\n",
    "print(users.clear())"
   ]
  },
  {
   "cell_type": "code",
   "execution_count": 46,
   "metadata": {},
   "outputs": [
    {
     "name": "stdout",
     "output_type": "stream",
     "text": [
      "['Abdul', 'Farkhod', 'Nodira', 'Anna', True]\n",
      "1\n",
      "['Abdul', 'Farkhod', 'Nodira', 'Anna']\n"
     ]
    }
   ],
   "source": [
    "users = ['Abdul']\n",
    "users.append('Farkhod')\n",
    "users.append('Nodira')\n",
    "users.append('Anna')\n",
    "users.append(True)\n",
    "print(users)\n",
    "print(users.count('Anna'))\n",
    "users.pop()\n",
    "#pop removes the last one in the list\n",
    "print(users)"
   ]
  },
  {
   "cell_type": "code",
   "execution_count": 48,
   "metadata": {},
   "outputs": [
    {
     "name": "stdout",
     "output_type": "stream",
     "text": [
      "['Abdul', 'Farkhod', 'Nodira', 'Anna', 'Anna', True]\n",
      "2\n",
      "['Abdul', 'Farkhod', 'Anna', 'Anna', True]\n"
     ]
    }
   ],
   "source": [
    "users = ['Abdul']\n",
    "users.append('Farkhod')\n",
    "users.append('Nodira')\n",
    "users.append('Anna')\n",
    "users.append('Anna')\n",
    "users.append(True)\n",
    "print(users)\n",
    "print(users.count('Anna'))\n",
    "users.pop(2)\n",
    "#pop removes the last one in the list\n",
    "print(users)"
   ]
  },
  {
   "cell_type": "code",
   "execution_count": 50,
   "metadata": {},
   "outputs": [
    {
     "name": "stdout",
     "output_type": "stream",
     "text": [
      "['Abdul', 'Farkhod', 'Nodira', 'Anna', 'Anna', True]\n",
      "['Abdul', 'Farkhod', 'Anna', 'Anna', True]\n"
     ]
    }
   ],
   "source": [
    "users = ['Abdul']\n",
    "users.append('Farkhod')\n",
    "users.append('Nodira')\n",
    "users.append('Anna')\n",
    "users.append('Anna')\n",
    "users.append(True)\n",
    "print(users)\n",
    "\n",
    "foundIndex = users.index('Nodira')\n",
    "\n",
    "users.pop(foundIndex)\n",
    "#pop removes the last one in the list\n",
    "print(users)"
   ]
  },
  {
   "cell_type": "code",
   "execution_count": 58,
   "metadata": {},
   "outputs": [
    {
     "name": "stdout",
     "output_type": "stream",
     "text": [
      "['Abdul', 'Farkhod', 'Nodira', 'Anna', 'Anna', True]\n",
      "['Farkhod', 'Anna', 'Anna', True]\n"
     ]
    }
   ],
   "source": [
    "users = ['Abdul']\n",
    "users.append('Farkhod')\n",
    "users.append('Nodira')\n",
    "users.append('Anna')\n",
    "users.append('Anna')\n",
    "users.append(True)\n",
    "print(users)\n",
    "\n",
    "foundIndex = users.index('Nodira')\n",
    "\n",
    "users.pop(foundIndex)\n",
    "#pop removes the last one in the list\n",
    "print(users[1:5])"
   ]
  },
  {
   "cell_type": "code",
   "execution_count": 59,
   "metadata": {},
   "outputs": [
    {
     "name": "stdout",
     "output_type": "stream",
     "text": [
      "['Abdul', 'Farkhod', 'Nodira', 'Anna', 'Anna', True]\n",
      "['Abdul', 'user', 'Farkhod', 'Anna', 'Anna', True]\n"
     ]
    }
   ],
   "source": [
    "users = ['Abdul']\n",
    "users.append('Farkhod')\n",
    "users.append('Nodira')\n",
    "users.append('Anna')\n",
    "users.append('Anna')\n",
    "users.append(True)\n",
    "print(users)\n",
    "\n",
    "foundIndex = users.index('Nodira')\n",
    "\n",
    "users.pop(foundIndex)\n",
    "\n",
    "users.insert(1, 'user')\n",
    "#pop removes the last one in the list\n",
    "print(users)"
   ]
  },
  {
   "cell_type": "code",
   "execution_count": 64,
   "metadata": {},
   "outputs": [
    {
     "name": "stdout",
     "output_type": "stream",
     "text": [
      "{'type': 'Fruit', 'color': 'Orange', 'count': 1}\n",
      "dict_values(['Fruit', 'Orange', 1])\n"
     ]
    }
   ],
   "source": [
    "mydict = { 'type' : 'Fruit', 'color' : 'Orange'}\n",
    "mydict['count'] = 1\n",
    "\n",
    "print(mydict)\n",
    "mylist = mydict.values()\n",
    "print(mylist)"
   ]
  },
  {
   "cell_type": "code",
   "execution_count": 70,
   "metadata": {},
   "outputs": [
    {
     "name": "stdout",
     "output_type": "stream",
     "text": [
      "Orange\n",
      "Fruit\n",
      "1\n"
     ]
    }
   ],
   "source": [
    "mydict = { 'type' : 'Fruit', 'color' : 'Orange', 'count': 1}\n",
    "\n",
    "print(mydict['color'])\n",
    "print(mydict['type'])\n",
    "print(mydict['count'])"
   ]
  },
  {
   "cell_type": "code",
   "execution_count": 71,
   "metadata": {},
   "outputs": [
    {
     "name": "stdout",
     "output_type": "stream",
     "text": [
      "Orange Fruit\n"
     ]
    }
   ],
   "source": [
    "mydict = { 'type' : 'Fruit', 'color' : 'Orange', 'count': 1}\n",
    "\n",
    "print(mydict['color'] + ' ' + mydict['type'])"
   ]
  },
  {
   "cell_type": "code",
   "execution_count": 76,
   "metadata": {},
   "outputs": [
    {
     "name": "stdout",
     "output_type": "stream",
     "text": [
      "dict_keys(['type', 'color', 'count'])\n",
      "dict_values(['Fruit', 'Red', 1])\n"
     ]
    }
   ],
   "source": [
    "mydict = { 'type' : 'Fruit', 'color' : 'Orange', 'count': 1}\n",
    "\n",
    "mydict['color'] = 'Red'\n",
    "\n",
    "print(mydict.keys())\n",
    "print(mydict.values())"
   ]
  },
  {
   "cell_type": "code",
   "execution_count": 77,
   "metadata": {},
   "outputs": [
    {
     "name": "stdout",
     "output_type": "stream",
     "text": [
      "{'mydata': 'example'}\n"
     ]
    }
   ],
   "source": [
    "mydict = { 'type' : 'Fruit', 'color' : 'Orange', 'count': 1}\n",
    "\n",
    "mydict['color'] = 'Red'\n",
    "\n",
    "\n",
    "my_second_dict = dict(mydata = 'example')\n",
    "\n",
    "print(my_second_dict)"
   ]
  },
  {
   "cell_type": "code",
   "execution_count": 79,
   "metadata": {},
   "outputs": [
    {
     "name": "stdout",
     "output_type": "stream",
     "text": [
      "dict_keys(['type', 'color', 'count'])\n",
      "dict_values(['Fruit', 'Red', 1])\n",
      "{'username': 'Murodbey', 'firstname': 'Murod', 'lastname': 'Shermat'}\n",
      "['data1', 'data2', 'data3']\n"
     ]
    }
   ],
   "source": [
    "mydict = { 'type' : 'Fruit', 'color' : 'Orange', 'count': 1}\n",
    "\n",
    "mydict['color'] = 'Red'\n",
    "\n",
    "print(mydict.keys())\n",
    "print(mydict.values())\n",
    "\n",
    "user = dict(username = 'Murodbey', firstname = 'Murod', lastname = 'Shermat')\n",
    "mylist = list(['data1', 'data2', 'data3'])\n",
    "\n",
    "print(user)\n",
    "print(mylist)"
   ]
  },
  {
   "cell_type": "code",
   "execution_count": null,
   "metadata": {},
   "outputs": [],
   "source": []
  }
 ],
 "metadata": {
  "kernelspec": {
   "display_name": "Python 3",
   "language": "python",
   "name": "python3"
  },
  "language_info": {
   "codemirror_mode": {
    "name": "ipython",
    "version": 3
   },
   "file_extension": ".py",
   "mimetype": "text/x-python",
   "name": "python",
   "nbconvert_exporter": "python",
   "pygments_lexer": "ipython3",
   "version": "3.6.5"
  }
 },
 "nbformat": 4,
 "nbformat_minor": 2
}
