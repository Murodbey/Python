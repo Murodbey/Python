{
 "cells": [
  {
   "cell_type": "code",
   "execution_count": 1,
   "metadata": {},
   "outputs": [
    {
     "name": "stdout",
     "output_type": "stream",
     "text": [
      "Collecting requests\n",
      "  Downloading https://files.pythonhosted.org/packages/51/bd/23c926cd341ea6b7dd0b2a00aba99ae0f828be89d72b2190f27c11d4b7fb/requests-2.22.0-py2.py3-none-any.whl (57kB)\n",
      "\u001b[K    100% |################################| 61kB 2.3MB/s ta 0:00:011\n",
      "\u001b[?25hCollecting urllib3!=1.25.0,!=1.25.1,<1.26,>=1.21.1 (from requests)\n",
      "  Downloading https://files.pythonhosted.org/packages/e6/60/247f23a7121ae632d62811ba7f273d0e58972d75e58a94d329d51550a47d/urllib3-1.25.3-py2.py3-none-any.whl (150kB)\n",
      "\u001b[K    100% |################################| 153kB 6.2MB/s eta 0:00:01\n",
      "\u001b[?25hCollecting certifi>=2017.4.17 (from requests)\n",
      "  Downloading https://files.pythonhosted.org/packages/69/1b/b853c7a9d4f6a6d00749e94eb6f3a041e342a885b87340b79c1ef73e3a78/certifi-2019.6.16-py2.py3-none-any.whl (157kB)\n",
      "\u001b[K    100% |################################| 163kB 5.7MB/s eta 0:00:01\n",
      "\u001b[?25hCollecting idna<2.9,>=2.5 (from requests)\n",
      "  Downloading https://files.pythonhosted.org/packages/14/2c/cd551d81dbe15200be1cf41cd03869a46fe7226e7450af7a6545bfc474c9/idna-2.8-py2.py3-none-any.whl (58kB)\n",
      "\u001b[K    100% |################################| 61kB 8.8MB/s eta 0:00:01\n",
      "\u001b[?25hCollecting chardet<3.1.0,>=3.0.2 (from requests)\n",
      "  Downloading https://files.pythonhosted.org/packages/bc/a9/01ffebfb562e4274b6487b4bb1ddec7ca55ec7510b22e4c51f14098443b8/chardet-3.0.4-py2.py3-none-any.whl (133kB)\n",
      "\u001b[K    100% |################################| 143kB 7.5MB/s eta 0:00:01\n",
      "\u001b[?25hInstalling collected packages: urllib3, certifi, idna, chardet, requests\n",
      "Successfully installed certifi-2019.6.16 chardet-3.0.4 idna-2.8 requests-2.22.0 urllib3-1.25.3\n",
      "\u001b[33mYou are using pip version 9.0.1, however version 19.1.1 is available.\n",
      "You should consider upgrading via the 'pip install --upgrade pip' command.\u001b[0m\n"
     ]
    }
   ],
   "source": [
    "!python3.6 -m pip install requests"
   ]
  },
  {
   "cell_type": "code",
   "execution_count": 2,
   "metadata": {},
   "outputs": [
    {
     "name": "stdout",
     "output_type": "stream",
     "text": [
      "{'anonymus': True, 'email': 'fuchicorpsolution@gmail.com', 'message': 'Welcome to FuchiCorp API', 'owner': 'Farkhod Sadykov', 'status': 200}\n"
     ]
    }
   ],
   "source": [
    "import requests\n",
    "\n",
    "\n",
    "response = requests.get('https://api.academy.fuchicorp.com/').json()\n",
    "print(response)"
   ]
  },
  {
   "cell_type": "code",
   "execution_count": 3,
   "metadata": {},
   "outputs": [
    {
     "name": "stdout",
     "output_type": "stream",
     "text": [
      "Something wrong!!\n"
     ]
    }
   ],
   "source": [
    "import requests\n",
    "response = requests.get('https://api.academy.fuchicorp.com/v0.1/example//users')\n",
    "if response.status_code == 200:\n",
    "    print(response.json())\n",
    "else:\n",
    "    print('Something wrong!!')"
   ]
  },
  {
   "cell_type": "code",
   "execution_count": 4,
   "metadata": {},
   "outputs": [
    {
     "name": "stdout",
     "output_type": "stream",
     "text": [
      "{'username': 'murodbey', 'password': 'redhat2019', 'firstname': 'Shermat', 'lastname': 'Toshmatovich', 'email': 'shurik@gmail.com'}\n",
      "{'message': 'User has been created!!'}\n"
     ]
    }
   ],
   "source": [
    "user = {}\n",
    "user['username'] = 'murodbey'\n",
    "user['password'] = 'redhat2019'\n",
    "user['firstname'] = 'Shermat'\n",
    "user['lastname'] = 'Toshmatovich'\n",
    "user['email'] = 'shurik@gmail.com'\n",
    "print(user)\n",
    "\n",
    "response = requests.post('http://api.academy.fuchicorp.com/v0.1/create_example/user', json=user)\n",
    "print(response.json())"
   ]
  },
  {
   "cell_type": "code",
   "execution_count": null,
   "metadata": {},
   "outputs": [],
   "source": []
  },
  {
   "cell_type": "code",
   "execution_count": 5,
   "metadata": {},
   "outputs": [
    {
     "name": "stdout",
     "output_type": "stream",
     "text": [
      "User already exist in system!!\n"
     ]
    }
   ],
   "source": [
    "import requests\n",
    "url = 'https://api.academy.fuchicorp.com/v0.1/create_example/user'\n",
    "user = {\"username\": \"murodbey\",\n",
    "        \"password\": \"redhat2019\",\n",
    "        \"firstname\": \"Amir\",\n",
    "        \"lastname\": \"Olimxon\",\n",
    "        \"email\": \"amir_olimxon@protonmail.com\"\n",
    "       }\n",
    "response = requests.post(url, json=user)\n",
    "if response.status_code == 200:\n",
    "    print(response.json()['message'])\n",
    "else:\n",
    "    print('Something went wrong')"
   ]
  },
  {
   "cell_type": "code",
   "execution_count": 10,
   "metadata": {},
   "outputs": [
    {
     "name": "stdout",
     "output_type": "stream",
     "text": [
      "User information has been updated!!\n"
     ]
    }
   ],
   "source": [
    "user_id = 'UUID\": \"7331e589-f00a-4ebb-ad6c-98c82d42c11f'\n",
    "\n",
    "update_url = f'https://api.academy.fuchicorp.com/v0.1/update_example/user/{user_id}'\n",
    "updated_user = {\"username\": \"murodbey\",\n",
    "        \"password\": \"redhat2019\",\n",
    "        \"firstname\": \"Amir\",\n",
    "        \"lastname\": \"Olimxon\",\n",
    "        \"email\": \"amir_olimxon@protonmail.com\"\n",
    "       }\n",
    "\n",
    "response = requests.put(update_url, json=updated_user)\n",
    "if response.status_code == 200:\n",
    "    print(response.json()['message'])\n",
    "else:\n",
    "    print('Something went wrong')"
   ]
  },
  {
   "cell_type": "code",
   "execution_count": 13,
   "metadata": {},
   "outputs": [
    {
     "name": "stdout",
     "output_type": "stream",
     "text": [
      "User has been deleted!!\n"
     ]
    }
   ],
   "source": [
    "user_id = '7331e589-f00a-4ebb-ad6c-98c82d42c11f'\n",
    "## Delete user from system\n",
    "delete_url = f'https://api.academy.fuchicorp.com/v0.1/delete_example/user/{user_id}'\n",
    "to_delete_user = {\n",
    "        'username': 'murodbey',\n",
    "        'password': 'redhat2019',\n",
    "       }\n",
    "\n",
    "response = requests.delete(delete_url, json=to_delete_user)\n",
    "if response.status_code == 200:\n",
    "    print(response.json()['message'])\n",
    "else:\n",
    "    print('Something went wrong')"
   ]
  },
  {
   "cell_type": "code",
   "execution_count": null,
   "metadata": {},
   "outputs": [],
   "source": []
  }
 ],
 "metadata": {
  "kernelspec": {
   "display_name": "Python 3",
   "language": "python",
   "name": "python3"
  },
  "language_info": {
   "codemirror_mode": {
    "name": "ipython",
    "version": 3
   },
   "file_extension": ".py",
   "mimetype": "text/x-python",
   "name": "python",
   "nbconvert_exporter": "python",
   "pygments_lexer": "ipython3",
   "version": "3.6.5"
  }
 },
 "nbformat": 4,
 "nbformat_minor": 2
}
