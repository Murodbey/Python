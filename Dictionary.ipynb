{
 "cells": [
  {
   "cell_type": "code",
   "execution_count": 9,
   "metadata": {},
   "outputs": [
    {
     "name": "stdout",
     "output_type": "stream",
     "text": [
      "You're probably not connected to the internet!\n",
      "Word not found!\n",
      "\n"
     ]
    },
    {
     "ename": "NameError",
     "evalue": "name 'pos' is not defined",
     "output_type": "error",
     "traceback": [
      "\u001b[0;31m---------------------------------------------------------------------------\u001b[0m",
      "\u001b[0;31mNameError\u001b[0m                                 Traceback (most recent call last)",
      "\u001b[0;32m<ipython-input-9-54ebf422a0e3>\u001b[0m in \u001b[0;36m<module>\u001b[0;34m\u001b[0m\n\u001b[1;32m     36\u001b[0m \u001b[0;31m# display the results\u001b[0m\u001b[0;34m\u001b[0m\u001b[0;34m\u001b[0m\u001b[0m\n\u001b[1;32m     37\u001b[0m \u001b[0mprint\u001b[0m\u001b[0;34m(\u001b[0m\u001b[0;34m)\u001b[0m\u001b[0;34m\u001b[0m\u001b[0m\n\u001b[0;32m---> 38\u001b[0;31m \u001b[0mprint\u001b[0m\u001b[0;34m(\u001b[0m\u001b[0mword\u001b[0m \u001b[0;34m+\u001b[0m \u001b[0;34m\": \"\u001b[0m \u001b[0;34m+\u001b[0m \u001b[0mpos\u001b[0m\u001b[0;34m)\u001b[0m\u001b[0;34m\u001b[0m\u001b[0m\n\u001b[0m\u001b[1;32m     39\u001b[0m \u001b[0;34m\u001b[0m\u001b[0m\n\u001b[1;32m     40\u001b[0m \u001b[0;32mfor\u001b[0m \u001b[0;34m(\u001b[0m\u001b[0mi\u001b[0m\u001b[0;34m,\u001b[0m \u001b[0mmeaning\u001b[0m\u001b[0;34m)\u001b[0m \u001b[0;32min\u001b[0m \u001b[0menumerate\u001b[0m\u001b[0;34m(\u001b[0m\u001b[0mmeanings\u001b[0m\u001b[0;34m)\u001b[0m\u001b[0;34m:\u001b[0m\u001b[0;34m\u001b[0m\u001b[0m\n",
      "\u001b[0;31mNameError\u001b[0m: name 'pos' is not defined"
     ]
    }
   ],
   "source": [
    "import sys\n",
    "import requests\n",
    "from bs4 import BeautifulSoup as bs\n",
    "\n",
    "\n",
    "url = \"https://www.dictionary.com/browse/\"\n",
    "\n",
    "# read the word from the command line arguments and append to the url\n",
    "try:\n",
    "    word = sys.argv[1]\n",
    "    url += word\n",
    "except:\n",
    "    print(\"Specify a word!\")\n",
    "    exit(-1)\n",
    "\n",
    "\n",
    "# load the website's source code\n",
    "try:\n",
    "    r = requests.get(url)\n",
    "    soup = bs(r.content, 'lxml')\n",
    "except:\n",
    "    print(\"You're probably not connected to the internet!\")\n",
    "    exit(-1)\n",
    "\n",
    "\n",
    "# parse the source to obtain all necessary info\n",
    "try:\n",
    "    pos = soup.findAll(\"span\", {\"class\": \"luna-pos\"})[0].text\n",
    "    answer_list = soup.findAll(\"ol\")[0]\n",
    "    meanings = answer_list.findChildren(\"li\", recursive=False)\n",
    "except:\n",
    "    print(\"Word not found!\")\n",
    "    exit(-1)\n",
    "\n",
    "\n",
    "# display the results\n",
    "print()\n",
    "print(word + \": \" + pos)\n",
    "\n",
    "for (i, meaning) in enumerate(meanings):\n",
    "    print()\n",
    "    print(str(i + 1) + \".\", meaning.text)\n",
    "    "
   ]
  },
  {
   "cell_type": "code",
   "execution_count": null,
   "metadata": {},
   "outputs": [],
   "source": []
  }
 ],
 "metadata": {
  "kernelspec": {
   "display_name": "Python 3",
   "language": "python",
   "name": "python3"
  },
  "language_info": {
   "codemirror_mode": {
    "name": "ipython",
    "version": 3
   },
   "file_extension": ".py",
   "mimetype": "text/x-python",
   "name": "python",
   "nbconvert_exporter": "python",
   "pygments_lexer": "ipython3",
   "version": "3.6.5"
  }
 },
 "nbformat": 4,
 "nbformat_minor": 2
}
