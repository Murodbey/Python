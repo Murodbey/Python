{
 "cells": [
  {
   "cell_type": "code",
   "execution_count": null,
   "metadata": {},
   "outputs": [],
   "source": [
    "def my_function():\n",
    "    print('Hello from the hell')"
   ]
  },
  {
   "cell_type": "code",
   "execution_count": null,
   "metadata": {},
   "outputs": [],
   "source": [
    "print(my_function)"
   ]
  },
  {
   "cell_type": "code",
   "execution_count": null,
   "metadata": {},
   "outputs": [],
   "source": [
    "my_function()"
   ]
  },
  {
   "cell_type": "code",
   "execution_count": null,
   "metadata": {},
   "outputs": [],
   "source": [
    "def my_function(username, password):\n",
    "    print(f'User {username}')\n",
    "    print(f'Password {password}')"
   ]
  },
  {
   "cell_type": "code",
   "execution_count": null,
   "metadata": {},
   "outputs": [],
   "source": [
    "my_function('Murodbey', 'shermat')"
   ]
  },
  {
   "cell_type": "code",
   "execution_count": null,
   "metadata": {},
   "outputs": [],
   "source": [
    "evolveCyberDatabase = []\n",
    "\n",
    "def new_student(first_name, last_name, username, group):\n",
    "    student = {}\n",
    "    student['first_name'] = first_name.capitalize()\n",
    "    student['last_name']  = last_name.capitalize()\n",
    "    student['username']   = username.lower()\n",
    "    student['group']      = group.capitalize()\n",
    "    evolveCyberDatabase.append(student)\n",
    "    print(f'User {username}, has been added to EvolveCyber.')"
   ]
  },
  {
   "cell_type": "code",
   "execution_count": null,
   "metadata": {},
   "outputs": [],
   "source": [
    "new_student('murod', 'murodovich', 'murodbey', 'devops')\n",
    "new_student('abdul', 'sharif', 'abdilcoder', 'dev')"
   ]
  },
  {
   "cell_type": "code",
   "execution_count": null,
   "metadata": {},
   "outputs": [],
   "source": [
    "print(evolveCyberDatabase)"
   ]
  },
  {
   "cell_type": "code",
   "execution_count": null,
   "metadata": {},
   "outputs": [],
   "source": [
    "print(evolveCyberDatabase[0])"
   ]
  },
  {
   "cell_type": "code",
   "execution_count": null,
   "metadata": {},
   "outputs": [],
   "source": [
    "user1 = {}\n",
    "user1['first_name'] = \"aziza\".capitalize()\n",
    "user1['last_name'] = 'nemat'.capitalize()\n",
    "evolveCyberDatabase.append(user1)\n",
    "\n",
    "user2 = {}\n",
    "user2['first_name'] = \"abdul\".capitalize()\n",
    "user2['last_name'] = 'sharif'.capitalize()\n",
    "evolveCyberDatabase.append(user2)"
   ]
  },
  {
   "cell_type": "code",
   "execution_count": null,
   "metadata": {},
   "outputs": [],
   "source": [
    "print(evolveCyberDatabase)"
   ]
  },
  {
   "cell_type": "code",
   "execution_count": null,
   "metadata": {},
   "outputs": [],
   "source": [
    "print(evolveCyberDatabase[5])"
   ]
  },
  {
   "cell_type": "code",
   "execution_count": null,
   "metadata": {},
   "outputs": [],
   "source": [
    "evolveCyberDatabase = []\n",
    "\n",
    "def new_student(first_name, last_name, username, group):\n",
    "    student = {}\n",
    "    student['first_name'] = first_name.capitalize()\n",
    "    student['last_name']  = last_name.capitalize()\n",
    "    student['username']   = username.lower()\n",
    "    student['group']      = group.capitalize()\n",
    "    evolveCyberDatabase.append(student)\n",
    "    print(f'User {username}, has been added to EvolveCyber.')\n",
    "    \n",
    "def delete_student(username):\n",
    "    for user in evolveCyberDatabase:\n",
    "        if user['username'] == username:\n",
    "            evolveCyberDatabase.remove(user)\n",
    "            print(f'User {username}, has been deleted from EvolveCyber.')\n",
    "    else:\n",
    "        print('User found')"
   ]
  },
  {
   "cell_type": "code",
   "execution_count": null,
   "metadata": {},
   "outputs": [],
   "source": [
    "delete_student('murodbey')"
   ]
  },
  {
   "cell_type": "code",
   "execution_count": null,
   "metadata": {},
   "outputs": [],
   "source": [
    "print(evolveCyberDatabase)"
   ]
  },
  {
   "cell_type": "code",
   "execution_count": null,
   "metadata": {},
   "outputs": [],
   "source": [
    "print(evolveCyberDatabase)\n",
    "delete_student('murodbey')\n",
    "print(evolveCyberDatabase)\n"
   ]
  },
  {
   "cell_type": "code",
   "execution_count": null,
   "metadata": {},
   "outputs": [],
   "source": [
    "evolveCyberDatabase = []\n",
    "\n",
    "def new_student(first_name, last_name, username, group):\n",
    "    student = {}\n",
    "    student['first_name'] = first_name.capitalize()\n",
    "    student['last_name']  = last_name.capitalize()\n",
    "    student['username']   = username.lower()\n",
    "    student['group']      = group.capitalize()\n",
    "    evolveCyberDatabase.append(student)\n",
    "    print(f'User {username}, has been added to EvolveCyber.')\n",
    "    \n",
    "def delete_student(username):\n",
    "    for user in evolveCyberDatabase:\n",
    "        if user['username'] == username:\n",
    "            evolveCyberDatabase.remove(user)\n",
    "            print(f'User {username}, has been deleted from EvolveCyber.')\n",
    "    else:\n",
    "        print('User not found')"
   ]
  },
  {
   "cell_type": "code",
   "execution_count": null,
   "metadata": {},
   "outputs": [],
   "source": [
    "new_student('murod', 'murodovich', 'murodbey', 'devops')\n",
    "new_student('abdul', 'sharif', 'abdilcoder', 'dev')"
   ]
  },
  {
   "cell_type": "code",
   "execution_count": null,
   "metadata": {},
   "outputs": [],
   "source": [
    "print(evolveCyberDatabase)\n",
    "delete_student('murodbey')\n",
    "print(evolveCyberDatabase)"
   ]
  },
  {
   "cell_type": "code",
   "execution_count": null,
   "metadata": {},
   "outputs": [],
   "source": [
    "evolveCyberDatabase = []\n",
    "\n",
    "def new_student(first_name, last_name, username, group):\n",
    "    student = {}\n",
    "    student['first_name'] = first_name.capitalize()\n",
    "    student['last_name']  = last_name.capitalize()\n",
    "    student['username']   = username.lower()\n",
    "    student['group']      = group.capitalize()\n",
    "    evolveCyberDatabase.append(student)\n",
    "    print(f'User {username}, has been added to EvolveCyber.')\n",
    "    \n",
    "def delete_student(username):\n",
    "    for user in evolveCyberDatabase:\n",
    "        if user['username'] == username:\n",
    "            evolveCyberDatabase.remove(user)\n",
    "            print(f'User {username}, has been deleted from EvolveCyber.')\n",
    "    else:\n",
    "        print('User not found')\n",
    "\n",
    "        \n",
    "def change_fullname(username, first_name = None, last_name = None):\n",
    "    for user in evolveCyberDatabase:\n",
    "        if user['username'] == username:\n",
    "            \n",
    "            if first_name:\n",
    "                user['first_name'] = first_name\n",
    "                print('First name has been updated')\n",
    "            if last_name:\n",
    "                user['last_name']  = last_name\n",
    "                print('Last name has been updated')\n"
   ]
  },
  {
   "cell_type": "code",
   "execution_count": null,
   "metadata": {},
   "outputs": [],
   "source": [
    "new_student('murod', 'murodovich', 'murodbey', 'devops')\n",
    "new_student('abdul', 'sharif', 'abdilcoder', 'dev')"
   ]
  },
  {
   "cell_type": "code",
   "execution_count": null,
   "metadata": {},
   "outputs": [],
   "source": [
    "change_fullname('murodbey', 'Shermat', 'Toshmatovich' )"
   ]
  },
  {
   "cell_type": "code",
   "execution_count": null,
   "metadata": {},
   "outputs": [],
   "source": [
    "print(evolveCyberDatabase)"
   ]
  },
  {
   "cell_type": "code",
   "execution_count": 1,
   "metadata": {},
   "outputs": [],
   "source": [
    "evolveCyberDatabase = []\n",
    "\n",
    "def new_student(first_name, last_name, username, group):\n",
    "    student = {}\n",
    "    student['first_name'] = first_name.capitalize()\n",
    "    student['last_name']  = last_name.capitalize()\n",
    "    student['username']   = username.lower()\n",
    "    student['group']      = group.capitalize()\n",
    "    evolveCyberDatabase.append(student)\n",
    "    print(f'User {username}, has been added to EvolveCyber.')\n",
    "    \n",
    "def delete_student(username):\n",
    "    for user in evolveCyberDatabase:\n",
    "        if user['username'] == username:\n",
    "            evolveCyberDatabase.remove(user)\n",
    "            print(f'User {username}, has been deleted from EvolveCyber.')\n",
    "    else:\n",
    "        print('User not found')\n",
    "\n",
    "        \n",
    "def change_fullname(username, first_name = None, last_name = None):\n",
    "    for user in evolveCyberDatabase:\n",
    "        if user['username'] == username:\n",
    "            \n",
    "            if first_name:\n",
    "                user['first_name'] = first_name\n",
    "                print('First name has been updated')\n",
    "            if last_name:\n",
    "                user['last_name']  = last_name\n",
    "                print('Last name has been updated')\n",
    "\n",
    "                \n",
    "def is_student_exist():\n",
    "    for user in evolveCyberDatabase:\n",
    "        if username == user['username']:\n",
    "            return True\n",
    "    return False\n",
    "    \n",
    "    \n"
   ]
  },
  {
   "cell_type": "code",
   "execution_count": 2,
   "metadata": {},
   "outputs": [
    {
     "name": "stdout",
     "output_type": "stream",
     "text": [
      "User murodbey, has been added to EvolveCyber.\n",
      "User abdilcoder, has been added to EvolveCyber.\n"
     ]
    }
   ],
   "source": [
    "new_student('murod', 'murodovich', 'murodbey', 'devops')\n",
    "new_student('abdul', 'sharif', 'abdilcoder', 'dev')"
   ]
  },
  {
   "cell_type": "code",
   "execution_count": null,
   "metadata": {},
   "outputs": [],
   "source": [
    "change_fullname('murodbey', 'Shermat', 'Toshmatovich' )"
   ]
  },
  {
   "cell_type": "code",
   "execution_count": null,
   "metadata": {},
   "outputs": [],
   "source": [
    "print(is_student_exist('murodbey'))"
   ]
  },
  {
   "cell_type": "code",
   "execution_count": null,
   "metadata": {},
   "outputs": [],
   "source": [
    "var = is_student_exist()\n",
    "print(var)"
   ]
  },
  {
   "cell_type": "markdown",
   "metadata": {},
   "source": [
    "## Create a function\n",
    "1.Function should find user return user\n",
    "2.If user does not exsit return False"
   ]
  },
  {
   "cell_type": "code",
   "execution_count": 6,
   "metadata": {},
   "outputs": [],
   "source": [
    "evolveCyberDatabase = []\n",
    "\n",
    "def new_student(first_name, last_name, username, group):\n",
    "    student = {}\n",
    "    student['first_name'] = first_name.capitalize()\n",
    "    student['last_name']  = last_name.capitalize()\n",
    "    student['username']   = username.lower()\n",
    "    student['group']      = group.capitalize()\n",
    "    evolveCyberDatabase.append(student)\n",
    "    print(f'User {username}, has been added to EvolveCyber.')\n",
    "\n",
    "def find_user(username):\n",
    "    for user in evolveCyberDatabase:\n",
    "        if username == user['username']:\n",
    "            return user\n",
    "    return False"
   ]
  },
  {
   "cell_type": "code",
   "execution_count": 7,
   "metadata": {},
   "outputs": [
    {
     "name": "stdout",
     "output_type": "stream",
     "text": [
      "User murodbey, has been added to EvolveCyber.\n",
      "User abdilcoder, has been added to EvolveCyber.\n"
     ]
    }
   ],
   "source": [
    "new_student('murod', 'murodovich', 'murodbey', 'devops')\n",
    "new_student('abdul', 'sharif', 'abdilcoder', 'dev')"
   ]
  },
  {
   "cell_type": "code",
   "execution_count": 8,
   "metadata": {},
   "outputs": [
    {
     "name": "stdout",
     "output_type": "stream",
     "text": [
      "[{'first_name': 'Murod', 'last_name': 'Murodovich', 'username': 'murodbey', 'group': 'Devops'}, {'first_name': 'Abdul', 'last_name': 'Sharif', 'username': 'abdilcoder', 'group': 'Dev'}]\n"
     ]
    }
   ],
   "source": [
    "print(evolveCyberDatabase)"
   ]
  },
  {
   "cell_type": "code",
   "execution_count": 9,
   "metadata": {},
   "outputs": [
    {
     "data": {
      "text/plain": [
       "{'first_name': 'Murod',\n",
       " 'last_name': 'Murodovich',\n",
       " 'username': 'murodbey',\n",
       " 'group': 'Devops'}"
      ]
     },
     "execution_count": 9,
     "metadata": {},
     "output_type": "execute_result"
    }
   ],
   "source": [
    "find_user('murodbey')\n"
   ]
  },
  {
   "cell_type": "code",
   "execution_count": 10,
   "metadata": {},
   "outputs": [
    {
     "name": "stdout",
     "output_type": "stream",
     "text": [
      "{'first_name': 'Murod', 'last_name': 'Murodovich', 'username': 'murodbey', 'group': 'Devops'}\n",
      "{'first_name': 'Abdul', 'last_name': 'Sharif', 'username': 'abdilcoder', 'group': 'Dev'}\n"
     ]
    }
   ],
   "source": [
    "for i in evolveCyberDatabase:\n",
    "    print(i)"
   ]
  },
  {
   "cell_type": "code",
   "execution_count": 11,
   "metadata": {},
   "outputs": [
    {
     "ename": "NameError",
     "evalue": "name 'find_student' is not defined",
     "output_type": "error",
     "traceback": [
      "\u001b[0;31m---------------------------------------------------------------------------\u001b[0m",
      "\u001b[0;31mNameError\u001b[0m                                 Traceback (most recent call last)",
      "\u001b[0;32m<ipython-input-11-837107b121db>\u001b[0m in \u001b[0;36m<module>\u001b[0;34m\u001b[0m\n\u001b[1;32m      1\u001b[0m \u001b[0;34m\u001b[0m\u001b[0m\n\u001b[0;32m----> 2\u001b[0;31m \u001b[0mmurodbey_user\u001b[0m \u001b[0;34m=\u001b[0m \u001b[0mfind_student\u001b[0m\u001b[0;34m(\u001b[0m\u001b[0;34m'murodbey'\u001b[0m\u001b[0;34m)\u001b[0m\u001b[0;34m\u001b[0m\u001b[0m\n\u001b[0m\u001b[1;32m      3\u001b[0m \u001b[0mprint\u001b[0m\u001b[0;34m(\u001b[0m\u001b[0mmurodbey_user\u001b[0m\u001b[0;34m)\u001b[0m\u001b[0;34m\u001b[0m\u001b[0m\n\u001b[1;32m      4\u001b[0m \u001b[0mnoneUser\u001b[0m \u001b[0;34m=\u001b[0m \u001b[0mfind_student\u001b[0m\u001b[0;34m(\u001b[0m\u001b[0;34m'none'\u001b[0m\u001b[0;34m)\u001b[0m\u001b[0;34m\u001b[0m\u001b[0m\n\u001b[1;32m      5\u001b[0m \u001b[0mprint\u001b[0m\u001b[0;34m(\u001b[0m\u001b[0mnoneUser\u001b[0m\u001b[0;34m)\u001b[0m\u001b[0;34m\u001b[0m\u001b[0m\n",
      "\u001b[0;31mNameError\u001b[0m: name 'find_student' is not defined"
     ]
    }
   ],
   "source": [
    "murodbey_user = find_student('murodbey')\n",
    "print(murodbey_user)\n",
    "noneUser = find_student('none')\n",
    "print(noneUser)"
   ]
  },
  {
   "cell_type": "code",
   "execution_count": null,
   "metadata": {},
   "outputs": [],
   "source": []
  }
 ],
 "metadata": {
  "kernelspec": {
   "display_name": "Python 3",
   "language": "python",
   "name": "python3"
  },
  "language_info": {
   "codemirror_mode": {
    "name": "ipython",
    "version": 3
   },
   "file_extension": ".py",
   "mimetype": "text/x-python",
   "name": "python",
   "nbconvert_exporter": "python",
   "pygments_lexer": "ipython3",
   "version": "3.6.5"
  }
 },
 "nbformat": 4,
 "nbformat_minor": 2
}
