{
 "cells": [
  {
   "cell_type": "code",
   "execution_count": 7,
   "metadata": {},
   "outputs": [
    {
     "name": "stdout",
     "output_type": "stream",
     "text": [
      "Abdul\n",
      "Nodira\n",
      "Zhanna\n"
     ]
    }
   ],
   "source": [
    "users = ['Abdul', 'Nodira', 'Zhanna']\n",
    "\n",
    "for user in users:\n",
    "    print(user)"
   ]
  },
  {
   "cell_type": "code",
   "execution_count": 6,
   "metadata": {},
   "outputs": [
    {
     "name": "stdout",
     "output_type": "stream",
     "text": [
      "Hello\n",
      "Hello\n",
      "Hello\n"
     ]
    }
   ],
   "source": [
    "users = ['Abdul', 'Nodira', 'Zhanna']\n",
    "\n",
    "# for user in users:\n",
    "#     print(user)\n",
    "    \n",
    "\n",
    "for item in range(0, 3):\n",
    "    print('Hello')"
   ]
  },
  {
   "cell_type": "code",
   "execution_count": 5,
   "metadata": {},
   "outputs": [
    {
     "name": "stdout",
     "output_type": "stream",
     "text": [
      "0  Hello\n",
      "1  Hello\n",
      "2  Hello\n",
      "3  Hello\n",
      "4  Hello\n",
      "5  Hello\n",
      "6  Hello\n",
      "7  Hello\n",
      "8  Hello\n"
     ]
    }
   ],
   "source": [
    "for number in range(0, 9):\n",
    "    print(number, ' Hello')"
   ]
  },
  {
   "cell_type": "code",
   "execution_count": 4,
   "metadata": {},
   "outputs": [
    {
     "name": "stdout",
     "output_type": "stream",
     "text": [
      "{'avatar': 'https://s3.amazonaws.com/uifaces/faces/twitter/stephenmoon/128.jpg', 'first_name': 'Charles', 'id': 5, 'last_name': 'Morris'}\n"
     ]
    }
   ],
   "source": [
    "data = [\n",
    "    {\n",
    "    \"avatar\": \"https://s3.amazonaws.com/uifaces/faces/twitter/marcoramires/128.jpg\",\n",
    "    \"first_name\": \"Eve\",\n",
    "    \"id\": 4,\n",
    "    \"last_name\": \"Holt\"\n",
    "    },\n",
    "    {\n",
    "    \"avatar\": \"https://s3.amazonaws.com/uifaces/faces/twitter/stephenmoon/128.jpg\",\n",
    "    \"first_name\": \"Charles\",\n",
    "    \"id\": 5,\n",
    "    \"last_name\": \"Morris\"\n",
    "    },\n",
    "    {\n",
    "    \"avatar\": \"https://s3.amazonaws.com/uifaces/faces/twitter/bigmancho/128.jpg\",\n",
    "    \"first_name\": \"Tracey\",\n",
    "    \"id\": 6,\n",
    "    \"last_name\": \"Ramos\"\n",
    "    }\n",
    "]\n",
    "\n",
    "for user in data:\n",
    "    if user['first_name'] == 'Charles':\n",
    "        print(user)"
   ]
  },
  {
   "cell_type": "code",
   "execution_count": 3,
   "metadata": {},
   "outputs": [
    {
     "name": "stdout",
     "output_type": "stream",
     "text": [
      "{'avatar': 'https://s3.amazonaws.com/uifaces/faces/twitter/marcoramires/128.jpg', 'first_name': 'Eve', 'id': 4, 'last_name': 'Holt'}\n",
      "{'avatar': 'https://s3.amazonaws.com/uifaces/faces/twitter/stephenmoon/128.jpg', 'first_name': 'Charles', 'id': 5, 'last_name': 'Morris'}\n",
      "{'avatar': 'https://s3.amazonaws.com/uifaces/faces/twitter/bigmancho/128.jpg', 'first_name': 'Tracey', 'id': 6, 'last_name': 'Ramos'}\n"
     ]
    }
   ],
   "source": [
    "data = [\n",
    "    {\n",
    "    \"avatar\": \"https://s3.amazonaws.com/uifaces/faces/twitter/marcoramires/128.jpg\",\n",
    "    \"first_name\": \"Eve\",\n",
    "    \"id\": 4,\n",
    "    \"last_name\": \"Holt\"\n",
    "    },\n",
    "    {\n",
    "    \"avatar\": \"https://s3.amazonaws.com/uifaces/faces/twitter/stephenmoon/128.jpg\",\n",
    "    \"first_name\": \"Charles\",\n",
    "    \"id\": 5,\n",
    "    \"last_name\": \"Morris\"\n",
    "    },\n",
    "    {\n",
    "    \"avatar\": \"https://s3.amazonaws.com/uifaces/faces/twitter/bigmancho/128.jpg\",\n",
    "    \"first_name\": \"Tracey\",\n",
    "    \"id\": 6,\n",
    "    \"last_name\": \"Ramos\"\n",
    "    }\n",
    "]\n",
    "\n",
    "for user in data:\n",
    "    print(user)"
   ]
  },
  {
   "cell_type": "code",
   "execution_count": 2,
   "metadata": {},
   "outputs": [
    {
     "name": "stdout",
     "output_type": "stream",
     "text": [
      "Hello\n"
     ]
    }
   ],
   "source": [
    "data = [\n",
    "    {\n",
    "    \"avatar\": \"https://s3.amazonaws.com/uifaces/faces/twitter/marcoramires/128.jpg\",\n",
    "    \"first_name\": \"Eve\",\n",
    "    \"id\": 4,\n",
    "    \"last_name\": \"Holt\"\n",
    "    },\n",
    "    {\n",
    "    \"avatar\": \"https://s3.amazonaws.com/uifaces/faces/twitter/stephenmoon/128.jpg\",\n",
    "    \"first_name\": \"Charles\",\n",
    "    \"id\": 5,\n",
    "    \"last_name\": \"Morris\"\n",
    "    },\n",
    "    {\n",
    "    \"avatar\": \"https://s3.amazonaws.com/uifaces/faces/twitter/bigmancho/128.jpg\",\n",
    "    \"first_name\": \"Tracey\",\n",
    "    \"id\": 6,\n",
    "    \"last_name\": \"Ramos\"\n",
    "    }\n",
    "]\n",
    "\n",
    "# for user in data:\n",
    "#     if user['first_name'] == 'Charles':\n",
    "#         print(user)\n",
    "\n",
    "while True:\n",
    "    print('Hello')\n",
    "    break"
   ]
  },
  {
   "cell_type": "code",
   "execution_count": 9,
   "metadata": {},
   "outputs": [
    {
     "name": "stdout",
     "output_type": "stream",
     "text": [
      "This is my string\n",
      "T\n",
      "h\n",
      "i\n",
      "s\n",
      " \n",
      "i\n",
      "s\n",
      " \n",
      "m\n",
      "y\n",
      " \n",
      "s\n",
      "t\n",
      "r\n",
      "i\n",
      "n\n",
      "g\n"
     ]
    }
   ],
   "source": [
    "my_string = 'This is my string'\n",
    "print(my_string)\n",
    "\n",
    "for item in my_string:\n",
    "    print(item)"
   ]
  },
  {
   "cell_type": "code",
   "execution_count": 10,
   "metadata": {},
   "outputs": [
    {
     "name": "stdout",
     "output_type": "stream",
     "text": [
      "This is my string\n",
      "T\n",
      "h\n",
      "i\n",
      "s\n",
      " \n",
      "i\n",
      "s\n",
      " \n",
      "m\n",
      "y\n",
      " \n",
      "s\n",
      "t\n",
      "r\n",
      "i\n",
      "n\n",
      "g\n",
      "Yes it is\n"
     ]
    }
   ],
   "source": [
    "my_string = 'This is my string'\n",
    "print(my_string)\n",
    "\n",
    "for item in my_string:\n",
    "    print(item)\n",
    "\n",
    "if 'This' in my_string:\n",
    "    print('Yes it is')"
   ]
  },
  {
   "cell_type": "code",
   "execution_count": 12,
   "metadata": {},
   "outputs": [
    {
     "name": "stdout",
     "output_type": "stream",
     "text": [
      "This is my string\n",
      "This\n",
      "is\n",
      "my\n",
      "string\n",
      "Yes it is\n"
     ]
    }
   ],
   "source": [
    "my_string = 'This is my string'\n",
    "print(my_string)\n",
    "\n",
    "for item in my_string.split(' '):\n",
    "    print(item)\n",
    "\n",
    "if 'This' in my_string:\n",
    "    print('Yes it is')"
   ]
  },
  {
   "cell_type": "code",
   "execution_count": 13,
   "metadata": {},
   "outputs": [
    {
     "name": "stdout",
     "output_type": "stream",
     "text": [
      "This is my string\n",
      "Yes it is\n",
      "Yes it is\n"
     ]
    }
   ],
   "source": [
    "my_string = 'This is my string'\n",
    "print(my_string)\n",
    "\n",
    "for item in my_string.split(' '):\n",
    "    if 'This' == item:\n",
    "        print('Yes it is')\n",
    "\n",
    "if 'This' in my_string:\n",
    "    print('Yes it is')"
   ]
  },
  {
   "cell_type": "code",
   "execution_count": 15,
   "metadata": {},
   "outputs": [
    {
     "name": "stdout",
     "output_type": "stream",
     "text": [
      "Anna\n",
      "Zhanna\n",
      "Abdul\n",
      "Alibek\n"
     ]
    }
   ],
   "source": [
    "import os\n",
    "users = ['Anna', 'Zhanna', 'Abdul', 'Alibek']\n",
    "for user in users:\n",
    "    print(user)\n",
    "    os.system(f'useradd {user}')"
   ]
  },
  {
   "cell_type": "code",
   "execution_count": 17,
   "metadata": {},
   "outputs": [
    {
     "name": "stdout",
     "output_type": "stream",
     "text": [
      "root:x:0:0:root:/root:/bin/bash\r\n",
      "bin:x:1:1:bin:/bin:/sbin/nologin\r\n",
      "daemon:x:2:2:daemon:/sbin:/sbin/nologin\r\n",
      "adm:x:3:4:adm:/var/adm:/sbin/nologin\r\n",
      "lp:x:4:7:lp:/var/spool/lpd:/sbin/nologin\r\n",
      "sync:x:5:0:sync:/sbin:/bin/sync\r\n",
      "shutdown:x:6:0:shutdown:/sbin:/sbin/shutdown\r\n",
      "halt:x:7:0:halt:/sbin:/sbin/halt\r\n",
      "mail:x:8:12:mail:/var/spool/mail:/sbin/nologin\r\n",
      "operator:x:11:0:operator:/root:/sbin/nologin\r\n",
      "games:x:12:100:games:/usr/games:/sbin/nologin\r\n",
      "ftp:x:14:50:FTP User:/var/ftp:/sbin/nologin\r\n",
      "nobody:x:99:99:Nobody:/:/sbin/nologin\r\n",
      "systemd-network:x:192:192:systemd Network Management:/:/sbin/nologin\r\n",
      "dbus:x:81:81:System message bus:/:/sbin/nologin\r\n",
      "Anna:x:1000:1000::/home/Anna:/bin/bash\r\n",
      "Zhanna:x:1001:1001::/home/Zhanna:/bin/bash\r\n",
      "Abdul:x:1002:1002::/home/Abdul:/bin/bash\r\n",
      "Alibek:x:1003:1003::/home/Alibek:/bin/bash\r\n"
     ]
    }
   ],
   "source": [
    "!cat /etc/passwd"
   ]
  },
  {
   "cell_type": "code",
   "execution_count": 18,
   "metadata": {},
   "outputs": [
    {
     "name": "stdout",
     "output_type": "stream",
     "text": [
      "Anna\n",
      "Zhanna\n",
      "Abdul\n",
      "Alibek\n"
     ]
    }
   ],
   "source": [
    "import os\n",
    "users = ['Anna', 'Zhanna', 'Abdul', 'Alibek']\n",
    "for user in users:\n",
    "    print(user)\n",
    "    os.system(f'userdel {user}')"
   ]
  },
  {
   "cell_type": "code",
   "execution_count": 26,
   "metadata": {},
   "outputs": [
    {
     "name": "stdout",
     "output_type": "stream",
     "text": [
      "Anna\n",
      "Zhanna\n",
      "Abdul\n",
      "Alibek\n"
     ]
    }
   ],
   "source": [
    "import os\n",
    "users = ['Anna', 'Zhanna', 'Abdul', 'Alibek']\n",
    "for user in users:\n",
    "    print(user)\n",
    "    os.system(f'mkdir /{user}')"
   ]
  },
  {
   "cell_type": "code",
   "execution_count": 27,
   "metadata": {},
   "outputs": [
    {
     "name": "stdout",
     "output_type": "stream",
     "text": [
      "Abdul\tanaconda-post.log  home\t\t      media\tproc  srv  var\r\n",
      "Alibek\tbin\t\t   jupyter-runner.py  mnt\troot  sys\r\n",
      "Anna\tdev\t\t   lib\t\t      murodbey\trun   tmp\r\n",
      "Zhanna\tetc\t\t   lib64\t      opt\tsbin  usr\r\n"
     ]
    }
   ],
   "source": [
    "!ls /\n"
   ]
  },
  {
   "cell_type": "code",
   "execution_count": 36,
   "metadata": {},
   "outputs": [
    {
     "name": "stdout",
     "output_type": "stream",
     "text": [
      "Anna\n",
      "Zhanna\n",
      "Abdul\n",
      "Alibek\n"
     ]
    }
   ],
   "source": [
    "import os\n",
    "users = ['Anna', 'Zhanna', 'Abdul', 'Alibek']\n",
    "for user in users:\n",
    "    print(user)\n",
    "    os.system(f'rm -rf /{user}')"
   ]
  },
  {
   "cell_type": "code",
   "execution_count": 37,
   "metadata": {},
   "outputs": [
    {
     "name": "stdout",
     "output_type": "stream",
     "text": [
      "anaconda-post.log  etc\t\t      lib    mnt       proc  sbin  tmp\r\n",
      "bin\t\t   home\t\t      lib64  murodbey  root  srv   usr\r\n",
      "dev\t\t   jupyter-runner.py  media  opt       run   sys   var\r\n"
     ]
    }
   ],
   "source": [
    "!ls /"
   ]
  },
  {
   "cell_type": "code",
   "execution_count": 38,
   "metadata": {},
   "outputs": [
    {
     "name": "stdout",
     "output_type": "stream",
     "text": [
      "Anna\n",
      "Zhanna\n",
      "Abdul\n",
      "Alibek\n"
     ]
    }
   ],
   "source": [
    "import os\n",
    "users = ['Anna', 'Zhanna', 'Abdul', 'Alibek']\n",
    "my_pub_key = 'ssh-rsa AAAAB3NzaC1yc2EAAAADAQABAAABAQC+jXvDaiWbdp5g2Vr82OQ4N90UOGl1DSKMafhK6BLmpgbtw3fxhEkSPfx0C13mIYbFHcWgY+zYq2zxxlVs3mOnOv4ESBvzBOLMO6idgw1q8kO04BwSxTjoGhEOQHcQGPcKei9HdoHI2UNhpTIrFZilbRr72HDXnBHL6ebhSMae18Dsx/UeCuo9V8ZssTkdmVIYJxS/Bb84XIkkOmjQdf2ghupdyQmpuTQtB7m/psBevs/xzuBaSgMJFrrT8Pzvg617Com1aFPwrgdYwaevRey9VEdl5I7kPbHNVAIfp0oOoSA562i+BohW+t9v80eArJMOsZFFuYgc4pgfxJgiPiT3 Murodbey@LAPTOP-30TAF5TU'\n",
    "for user in users:\n",
    "    print(user)\n",
    "    os.system(f'useradd {user}')\n",
    "    os.system(f'mkdir /home/{user}/.ssh')\n",
    "    os.system(f'echo {my_pub_key}  >>  /home/{user}/.ssh/authorized_keys')"
   ]
  },
  {
   "cell_type": "code",
   "execution_count": 39,
   "metadata": {},
   "outputs": [
    {
     "name": "stdout",
     "output_type": "stream",
     "text": [
      "ssh-rsa AAAAB3NzaC1yc2EAAAADAQABAAABAQC+jXvDaiWbdp5g2Vr82OQ4N90UOGl1DSKMafhK6BLmpgbtw3fxhEkSPfx0C13mIYbFHcWgY+zYq2zxxlVs3mOnOv4ESBvzBOLMO6idgw1q8kO04BwSxTjoGhEOQHcQGPcKei9HdoHI2UNhpTIrFZilbRr72HDXnBHL6ebhSMae18Dsx/UeCuo9V8ZssTkdmVIYJxS/Bb84XIkkOmjQdf2ghupdyQmpuTQtB7m/psBevs/xzuBaSgMJFrrT8Pzvg617Com1aFPwrgdYwaevRey9VEdl5I7kPbHNVAIfp0oOoSA562i+BohW+t9v80eArJMOsZFFuYgc4pgfxJgiPiT3 Murodbey@LAPTOP-30TAF5TU\r\n"
     ]
    }
   ],
   "source": [
    "!cat /home/Anna/.ssh/authorized_keys\n"
   ]
  },
  {
   "cell_type": "code",
   "execution_count": 41,
   "metadata": {},
   "outputs": [
    {
     "name": "stdout",
     "output_type": "stream",
     "text": [
      "User can not found\n"
     ]
    }
   ],
   "source": [
    "data = [\n",
    "    {\n",
    "    \"avatar\": \"https://s3.amazonaws.com/uifaces/faces/twitter/marcoramires/128.jpg\",\n",
    "    \"first_name\": \"Eve\",\n",
    "    \"id\": 4,\n",
    "    \"last_name\": \"Holt\"\n",
    "    },\n",
    "    {\n",
    "    \"avatar\": \"https://s3.amazonaws.com/uifaces/faces/twitter/stephenmoon/128.jpg\",\n",
    "    \"first_name\": \"Charles\",\n",
    "    \"id\": 5,\n",
    "    \"last_name\": \"Morris\"\n",
    "    },\n",
    "    {\n",
    "    \"avatar\": \"https://s3.amazonaws.com/uifaces/faces/twitter/bigmancho/128.jpg\",\n",
    "    \"first_name\": \"Tracey\",\n",
    "    \"id\": 6,\n",
    "    \"last_name\": \"Ramos\"\n",
    "    }\n",
    "]\n",
    "\n",
    "for user in data:\n",
    "    if 'Murodbey' == user['first_name']:\n",
    "        print('User found')\n",
    "else:\n",
    "    print('User can not found')"
   ]
  },
  {
   "cell_type": "code",
   "execution_count": 47,
   "metadata": {},
   "outputs": [
    {
     "name": "stdout",
     "output_type": "stream",
     "text": [
      "###########################################\n",
      "###### abdulsharif ################\n",
      "Python\n",
      "Jenkins\n",
      "Ansible\n"
     ]
    }
   ],
   "source": [
    "student = {'username' : 'abdulsharif',\n",
    "           'password' : 'redhat',\n",
    "           'classes' : ['Python', 'Jenkins', 'Ansible']\n",
    "          }\n",
    "\n",
    "print('###########################################')\n",
    "print(f'###### {student[\"username\"]} ################')\n",
    "for item in student['classes']:\n",
    "      print(item)"
   ]
  },
  {
   "cell_type": "code",
   "execution_count": 49,
   "metadata": {},
   "outputs": [
    {
     "name": "stdout",
     "output_type": "stream",
     "text": [
      "Please enter full name :Shermat Toshmatovich\n",
      "Please enter username :Shermamat\n",
      "Please enter password :sherqul\n",
      "User has been created!\n",
      "Do you want to stop it yes/no :no\n",
      "Please enter full name :Amir Olimxon\n",
      "Please enter username :Timurid\n",
      "Please enter password :olmaxon\n",
      "User has been created!\n",
      "Do you want to stop it yes/no :yes\n",
      "Bye :)\n"
     ]
    }
   ],
   "source": [
    "dataBase = []\n",
    "while True:\n",
    "    studentObject = {}\n",
    "    studentObject['full_name'] = input('Please enter full name :')\n",
    "    studentObject['username'] = input('Please enter username :')\n",
    "    studentObject['password'] = input('Please enter password :')\n",
    "    dataBase.append(studentObject)\n",
    "    print('User has been created!')\n",
    "    answer = input('Do you want to stop it yes/no :')\n",
    "    if answer == 'yes':\n",
    "        print('Bye :)')\n",
    "        break"
   ]
  },
  {
   "cell_type": "code",
   "execution_count": 50,
   "metadata": {},
   "outputs": [
    {
     "name": "stdout",
     "output_type": "stream",
     "text": [
      "[{'full_name': 'Shermat Toshmatovich', 'username': 'Shermamat', 'password': 'sherqul'}, {'full_name': 'Amir Olimxon', 'username': 'Timurid', 'password': 'olmaxon'}]\n"
     ]
    }
   ],
   "source": [
    "print(dataBase)"
   ]
  },
  {
   "cell_type": "code",
   "execution_count": 51,
   "metadata": {},
   "outputs": [
    {
     "name": "stdout",
     "output_type": "stream",
     "text": [
      "Please enter full name :Shermat Toshmatovich\n",
      "Please enter username :Shermamat\n",
      "Please enter password :sherqul\n",
      "User has been created!\n",
      "Do you want to stop it yes/no :yes\n",
      "Bye :)\n"
     ]
    }
   ],
   "source": [
    "dataBase = []\n",
    "import time\n",
    "while True:\n",
    "    studentObject = {}\n",
    "    studentObject['full_name'] = input('Please enter full name :')\n",
    "    studentObject['username'] = input('Please enter username :')\n",
    "    studentObject['password'] = input('Please enter password :')\n",
    "    time.sleep(2)\n",
    "    dataBase.append(studentObject)\n",
    "    print('User has been created!')\n",
    "    answer = input('Do you want to stop it yes/no :')\n",
    "    if answer == 'yes':\n",
    "        print('Bye :)')\n",
    "        break"
   ]
  },
  {
   "cell_type": "code",
   "execution_count": 53,
   "metadata": {},
   "outputs": [
    {
     "name": "stdout",
     "output_type": "stream",
     "text": [
      "Please enter full name :shermat toshmatovich\n",
      "Please enter username :SHERMAMAT\n",
      "Please enter password :shermat\n",
      "User has been created!\n",
      "Do you want to stop it yes/no :y\n",
      "Bye :)\n"
     ]
    }
   ],
   "source": [
    "dataBase = []\n",
    "import time\n",
    "yesAnswer = ['YES', 'Yes', 'y', 'Y', 'YeS', 'yes']\n",
    "while True:\n",
    "    studentObject = {}\n",
    "    studentObject['full_name'] = input('Please enter full name :').capitalize()\n",
    "    studentObject['username'] = input('Please enter username :').lower()\n",
    "    studentObject['password'] = input('Please enter password :')\n",
    "    time.sleep(2)\n",
    "    dataBase.append(studentObject)\n",
    "    print('User has been created!')\n",
    "    answer = input('Do you want to stop it yes/no :')\n",
    "    if answer in yesAnswer:\n",
    "        print('Bye :)')\n",
    "        break"
   ]
  },
  {
   "cell_type": "code",
   "execution_count": 54,
   "metadata": {},
   "outputs": [
    {
     "name": "stdout",
     "output_type": "stream",
     "text": [
      "[{'full_name': 'Shermat toshmatovich', 'username': 'shermamat', 'password': 'shermat'}]\n"
     ]
    }
   ],
   "source": [
    "print(dataBase)"
   ]
  },
  {
   "cell_type": "code",
   "execution_count": null,
   "metadata": {},
   "outputs": [],
   "source": []
  }
 ],
 "metadata": {
  "kernelspec": {
   "display_name": "Python 3",
   "language": "python",
   "name": "python3"
  },
  "language_info": {
   "codemirror_mode": {
    "name": "ipython",
    "version": 3
   },
   "file_extension": ".py",
   "mimetype": "text/x-python",
   "name": "python",
   "nbconvert_exporter": "python",
   "pygments_lexer": "ipython3",
   "version": "3.6.5"
  }
 },
 "nbformat": 4,
 "nbformat_minor": 2
}
