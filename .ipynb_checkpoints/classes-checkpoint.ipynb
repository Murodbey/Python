{
 "cells": [
  {
   "cell_type": "code",
   "execution_count": 22,
   "metadata": {},
   "outputs": [],
   "source": [
    "class Human:\n",
    "    def __init__(self, givenFirstName, givenLastName, givenGender):\n",
    "        self.firstname = givenFirstName\n",
    "        self.lastname  = givenLastName\n",
    "        self.gender    = givenGender\n",
    "        \n",
    "    def print_info(self):\n",
    "        print(f'Hello,\\n my name is {self.firstname}')\n",
    "#     pass     #pass means --- skip this part! "
   ]
  },
  {
   "cell_type": "code",
   "execution_count": 26,
   "metadata": {},
   "outputs": [
    {
     "name": "stdout",
     "output_type": "stream",
     "text": [
      "Smith\n",
      "Miller\n"
     ]
    }
   ],
   "source": [
    "user1 = Human('Kyle', 'Smith', 'Male')\n",
    "# user1.firstname = 'Kyle'\n",
    "# user1.lastname  = 'Smith'\n",
    "# user1.gender    = 'male'\n",
    "# user1.status    =  False\n",
    "\n",
    "user2 = Human('Emma', 'Miller', 'Female')\n",
    "\n",
    "print(user1.lastname)\n",
    "user1.lastname = 'Miller'\n",
    "print(user1.lastname)"
   ]
  },
  {
   "cell_type": "code",
   "execution_count": 25,
   "metadata": {},
   "outputs": [
    {
     "name": "stdout",
     "output_type": "stream",
     "text": [
      "Hello,\n",
      " my name is Kyle\n",
      "Hello,\n",
      " my name is Emma\n"
     ]
    }
   ],
   "source": [
    "user1.print_info()\n",
    "user2.print_info()"
   ]
  },
  {
   "cell_type": "code",
   "execution_count": 4,
   "metadata": {},
   "outputs": [
    {
     "name": "stdout",
     "output_type": "stream",
     "text": [
      "Kyle\n"
     ]
    }
   ],
   "source": [
    "print(user1.firstname)\n",
    "print(user2.firstname)"
   ]
  },
  {
   "cell_type": "code",
   "execution_count": 6,
   "metadata": {},
   "outputs": [
    {
     "name": "stdout",
     "output_type": "stream",
     "text": [
      "Kyle\n"
     ]
    }
   ],
   "source": [
    "example_user = {\n",
    "    'firstname' : 'Kyle',\n",
    "    'lastname' : 'Smith',\n",
    "    'gender' : 'male',\n",
    "    'status' : False\n",
    "}\n",
    "\n",
    "print(example_user['firstname'])"
   ]
  },
  {
   "cell_type": "code",
   "execution_count": 30,
   "metadata": {},
   "outputs": [
    {
     "name": "stdout",
     "output_type": "stream",
     "text": [
      "[]\n",
      "self.fname has been added to Database!!!\n",
      "self.fname has been added to Database!!!\n",
      "[{'First Name': 'Kyle', 'Last Name': 'Smith', 'Status': True, 'Gender': 'Male'}, {'First Name': 'Emma', 'Last Name': 'Miller', 'Status': True, 'Gender': 'Female'}]\n"
     ]
    }
   ],
   "source": [
    "dataBase = []\n",
    "\n",
    "class Human:\n",
    "    \n",
    "    def __init__(self, givenFirstName, givenLastName, givenGender, givenStatus=None):\n",
    "        self.firstname = givenFirstName\n",
    "        self.lastname  = givenLastName\n",
    "        self.gender    = givenGender\n",
    "        self.status    = givenStatus\n",
    "        if givenStatus is None:\n",
    "            self.status  = False   \n",
    "        \n",
    "    def print_info(self):\n",
    "        print(f'Hello,\\n my name is {self.firstname}')\n",
    "        \n",
    "    def save_info(self):\n",
    "        dataBase.append({'First Name': self.firstname,\n",
    "               'Last Name': self.lastname,\n",
    "               'Status': self.status,\n",
    "               'Gender': self.gender})\n",
    "        print(f'self.fname has been added to Database!!!')\n",
    "        \n",
    "class Manager(Human):\n",
    "    pass\n",
    "\n",
    "user1 = Human('Kyle', 'Smith', 'Male', True)\n",
    "user2 = Human('Emma', 'Miller', 'Female', True)\n",
    "    \n",
    "    \n",
    "user1 = Human('Kyle', 'Smith', 'Male', True)\n",
    "user2 = Human('Emma', 'Miller', 'Female', True)\n",
    "\n",
    "\n",
    "print(dataBase)\n",
    "user1.save_info()\n",
    "user2.save_info()\n",
    "print(dataBase)"
   ]
  },
  {
   "cell_type": "code",
   "execution_count": 31,
   "metadata": {},
   "outputs": [],
   "source": [
    "dataBase = []\n",
    "\n",
    "       \n",
    "        \n",
    "class Student(object):\n",
    "    \n",
    "    def __init__(self, givenFirstName, givenLastName, givenGender, givenStatus=None):\n",
    "        self.fname  = givenFirstName\n",
    "        self.lname  = givenLastName\n",
    "        self.gender = givenGender\n",
    "        self.status = givenStatus\n",
    "        if givenStatus is None:\n",
    "            self.status = False\n",
    "        \n",
    "\n",
    "    def print_info(self):\n",
    "        print(f'Hi My name is {self.fname}')\n",
    "\n",
    "\n",
    "    def save_info(self):\n",
    "        \n",
    "        dataBase.append({\n",
    "               'FirstName': self.fname,\n",
    "               'LastName': self.lname,\n",
    "               'Gender': self.gender,\n",
    "               'Status': self.status})\n",
    "        print(f'{self.fname} has been added to Database!!')\n",
    "        \n",
    "\n",
    "class Manager(Student):\n",
    "    def __init__(self, givenFirstName, givenLastName, givenGender, givenRole, givenStatus=None):\n",
    "        self.role = givenRole\n",
    "        super().__init__(givenFirstName, givenLastName, givenGender, givenStatus=None)\n",
    "        \n",
    "    def delete_user(self, name):\n",
    "        for user in dataBase:\n",
    "            if name in user['FirstName']:\n",
    "                dataBase.remove(user)\n",
    "                print('User has been deleted ')\n",
    "                break\n",
    "        else:\n",
    "            print('User not found')\n",
    "            \n",
    "\n",
    "user1 = Student('Kyle', 'Smith', 'Male', True)\n",
    "user2 = Student('Emma', 'Miller', 'Female')\n",
    "user3 = Student('Abdul', 'Sharif', 'Male')\n",
    "manager = Manager('Nodira', 'Saip', 'Female', True)"
   ]
  },
  {
   "cell_type": "code",
   "execution_count": 33,
   "metadata": {},
   "outputs": [
    {
     "name": "stdout",
     "output_type": "stream",
     "text": [
      "[{'FirstName': 'Kyle', 'LastName': 'Smith', 'Gender': 'Male', 'Status': True}, {'FirstName': 'Emma', 'LastName': 'Miller', 'Gender': 'Female', 'Status': False}, {'FirstName': 'Abdul', 'LastName': 'Sharif', 'Gender': 'Male', 'Status': False}]\n",
      "Kyle has been added to Database!!\n",
      "Emma has been added to Database!!\n",
      "Abdul has been added to Database!!\n",
      "User has been deleted \n",
      "[{'FirstName': 'Kyle', 'LastName': 'Smith', 'Gender': 'Male', 'Status': True}, {'FirstName': 'Emma', 'LastName': 'Miller', 'Gender': 'Female', 'Status': False}, {'FirstName': 'Kyle', 'LastName': 'Smith', 'Gender': 'Male', 'Status': True}, {'FirstName': 'Emma', 'LastName': 'Miller', 'Gender': 'Female', 'Status': False}, {'FirstName': 'Abdul', 'LastName': 'Sharif', 'Gender': 'Male', 'Status': False}]\n"
     ]
    }
   ],
   "source": [
    "print(dataBase)\n",
    "user1.save_info()\n",
    "user2.save_info()\n",
    "user3.save_info()\n",
    "manager.delete_user('Abdul')\n",
    "print(dataBase)"
   ]
  },
  {
   "cell_type": "code",
   "execution_count": null,
   "metadata": {},
   "outputs": [],
   "source": []
  }
 ],
 "metadata": {
  "kernelspec": {
   "display_name": "Python 3",
   "language": "python",
   "name": "python3"
  },
  "language_info": {
   "codemirror_mode": {
    "name": "ipython",
    "version": 3
   },
   "file_extension": ".py",
   "mimetype": "text/x-python",
   "name": "python",
   "nbconvert_exporter": "python",
   "pygments_lexer": "ipython3",
   "version": "3.6.5"
  }
 },
 "nbformat": 4,
 "nbformat_minor": 2
}
