{
 "cells": [
  {
   "cell_type": "code",
   "execution_count": null,
   "metadata": {},
   "outputs": [],
   "source": [
    "door = 'open'\n",
    "type(door)"
   ]
  },
  {
   "cell_type": "code",
   "execution_count": null,
   "metadata": {},
   "outputs": [],
   "source": [
    "door = 'open'\n",
    "#to express equal use 2 ==\n",
    "if door == 'open' :\n",
    "    print('Yes, you can go!!!')\n",
    "    "
   ]
  },
  {
   "cell_type": "code",
   "execution_count": null,
   "metadata": {},
   "outputs": [],
   "source": [
    "door = 'close'\n",
    "if door == 'open' :\n",
    "    print('Yes, you can go!!!')\n",
    "elif door == 'close' :\n",
    "    print('No, you can`t go!!!')"
   ]
  },
  {
   "cell_type": "code",
   "execution_count": null,
   "metadata": {},
   "outputs": [],
   "source": [
    "door = 'wadafaef'\n",
    "if door == 'open' :\n",
    "    print('Yes, you can go!!!')\n",
    "elif door == 'close' :\n",
    "    print('No, you can`t go!!!')\n",
    "else:\n",
    "    print('something wrong!!!')\n"
   ]
  },
  {
   "cell_type": "code",
   "execution_count": 1,
   "metadata": {},
   "outputs": [
    {
     "name": "stdout",
     "output_type": "stream",
     "text": [
      "what is your name? :Murodbey\n",
      "Hello Murodbey\n"
     ]
    }
   ],
   "source": [
    "name = input('what is your name? :')\n",
    "print('Hello ' + name)"
   ]
  },
  {
   "cell_type": "code",
   "execution_count": 5,
   "metadata": {},
   "outputs": [
    {
     "name": "stdout",
     "output_type": "stream",
     "text": [
      "what is your name? :Ahmad\n",
      "Hello Ahmad\n"
     ]
    }
   ],
   "source": [
    "name = input('what is your name? :')\n",
    "\n",
    "if name == 'Anna' :\n",
    "    print('Privet ' + name)\n",
    "elif name == 'Murodbey' :\n",
    "    print('SalamAleykum ' + name)\n",
    "else:\n",
    "    print('Hello ' + name)"
   ]
  },
  {
   "cell_type": "code",
   "execution_count": 9,
   "metadata": {},
   "outputs": [
    {
     "name": "stdout",
     "output_type": "stream",
     "text": [
      "what is your name? :murodbey\n",
      "SalamAleykum Murodbey\n"
     ]
    }
   ],
   "source": [
    "name = input('what is your name? :')\n",
    "name = name.capitalize()\n",
    "\n",
    "if name == 'Anna' :\n",
    "    print('Privet ' + name)\n",
    "elif name == 'Murodbey' :\n",
    "    print('SalamAleykum ' + name)\n",
    "else:\n",
    "    print('Hello ' + name)"
   ]
  },
  {
   "cell_type": "code",
   "execution_count": 13,
   "metadata": {},
   "outputs": [
    {
     "name": "stdout",
     "output_type": "stream",
     "text": [
      "What is your name? :abdul\n",
      "Sorry you can`t come in!\n"
     ]
    }
   ],
   "source": [
    "black_list = ['Abdul', 'Farkhod', 'Florin']\n",
    "student = input('What is your name? :')\n",
    "#student = student.capitalize()\n",
    "\n",
    "if student.capitalize() in black_list:\n",
    "    print('Sorry you can`t come in!')"
   ]
  },
  {
   "cell_type": "code",
   "execution_count": 20,
   "metadata": {},
   "outputs": [
    {
     "name": "stdout",
     "output_type": "stream",
     "text": [
      "What is your name? :azika\n",
      "Hello come in azika\n"
     ]
    }
   ],
   "source": [
    "lack_list = ['Abdul', 'Farkhod', 'Florin']\n",
    "student = input('What is your name? :')\n",
    "#student = student.capitalize()\n",
    "\n",
    "if student.capitalize() in black_list:\n",
    "    print('Sorry you can`t come in!')\n",
    "else:\n",
    "    print(f'Hello come in {student}')"
   ]
  },
  {
   "cell_type": "code",
   "execution_count": 21,
   "metadata": {},
   "outputs": [
    {
     "name": "stdout",
     "output_type": "stream",
     "text": [
      "What is your name? :murodbey\n",
      "Murodbey\n"
     ]
    }
   ],
   "source": [
    "name = input('What is your name? :').capitalize()\n",
    "\n",
    "print(name)"
   ]
  },
  {
   "cell_type": "code",
   "execution_count": 22,
   "metadata": {},
   "outputs": [
    {
     "name": "stdout",
     "output_type": "stream",
     "text": [
      "What is your name? :murodbey\n",
      "What is your birthday <year>? :1995\n"
     ]
    }
   ],
   "source": [
    "name = input('What is your name? :').capitalize()\n",
    "year = input('What is your birthday <year>? :')"
   ]
  },
  {
   "cell_type": "code",
   "execution_count": 23,
   "metadata": {},
   "outputs": [
    {
     "name": "stdout",
     "output_type": "stream",
     "text": [
      "What is your name? :murodbey\n",
      "What is your birthday <year>? :1995\n"
     ]
    }
   ],
   "source": [
    "name = input('What is your name? :').capitalize()\n",
    "year = int(input('What is your birthday <year>? :'))"
   ]
  },
  {
   "cell_type": "code",
   "execution_count": 24,
   "metadata": {},
   "outputs": [
    {
     "data": {
      "text/plain": [
       "int"
      ]
     },
     "execution_count": 24,
     "metadata": {},
     "output_type": "execute_result"
    }
   ],
   "source": [
    "type(year)"
   ]
  },
  {
   "cell_type": "code",
   "execution_count": 28,
   "metadata": {},
   "outputs": [
    {
     "name": "stdout",
     "output_type": "stream",
     "text": [
      "What is your name? :murodbey\n",
      "What is your birthday <year>? :1995\n",
      "Your name is Murodbey, and your birthday is 1995\n"
     ]
    }
   ],
   "source": [
    "name = input('What is your name? :').capitalize()\n",
    "year = int(input('What is your birthday <year>? :'))\n",
    "print(f\"Your name is {name}, and your birthday is {year}\")"
   ]
  },
  {
   "cell_type": "code",
   "execution_count": 29,
   "metadata": {},
   "outputs": [
    {
     "name": "stdout",
     "output_type": "stream",
     "text": [
      "What is your name? :murodbey\n",
      "What is your birthday <year>? :1995\n",
      "Your name is Murodbey, and your birthday is 1995, and your age is 24\n"
     ]
    }
   ],
   "source": [
    "name = input('What is your name? :').capitalize()\n",
    "year = int(input('What is your birthday <year>? :'))\n",
    "now = 2019\n",
    "age = now - year\n",
    "\n",
    "print(f\"Your name is {name}, and your birthday is {year}, and your age is {age}\")"
   ]
  },
  {
   "cell_type": "code",
   "execution_count": 32,
   "metadata": {},
   "outputs": [
    {
     "name": "stdout",
     "output_type": "stream",
     "text": [
      "Please come in\n"
     ]
    }
   ],
   "source": [
    "door = True\n",
    "\n",
    "if door:\n",
    "    print('Door is open!!')\n",
    "else:\n",
    "    print('Door is locked!!')"
   ]
  },
  {
   "cell_type": "code",
   "execution_count": 42,
   "metadata": {},
   "outputs": [
    {
     "name": "stdout",
     "output_type": "stream",
     "text": [
      "['Python', 'Terraform', 'Ansible'] redhat2019\n"
     ]
    }
   ],
   "source": [
    "student = {\n",
    "    'Firstname': 'Abdul',\n",
    "    'lastname': 'sharik',\n",
    "    'username': 'asharik',\n",
    "    'password': 'redhat2019',\n",
    "    'status': False,\n",
    "    'classes': ['Python', 'Terraform', 'Ansible']\n",
    "}\n",
    "\n",
    "print(student['classes'], student['password'])"
   ]
  },
  {
   "cell_type": "code",
   "execution_count": 70,
   "metadata": {},
   "outputs": [
    {
     "name": "stdout",
     "output_type": "stream",
     "text": [
      "##################################################\n",
      "######### information about Abdul sharik #########\n",
      "##################################################\n",
      "######### Username: asharik ######################\n",
      "##################################################\n",
      "######### Full name: Abdul sharik ################\n",
      "##################################################\n",
      "User can`t login\n",
      "## User attends Python class\n",
      "## User attends Terraform class\n",
      "## User attends Ansible class\n"
     ]
    }
   ],
   "source": [
    "student = {\n",
    "    'firstname': 'Abdul',\n",
    "    'lastname': 'sharik',\n",
    "    'username': 'asharik',\n",
    "    'password': 'redhat2019',\n",
    "    'status': False,\n",
    "    'classes': ['Python', 'Terraform', 'Ansible']\n",
    "}\n",
    "\n",
    "print('##################################################')\n",
    "print(f'######### information about {student[\"firstname\"]} {student[\"lastname\"]} #########')\n",
    "print('##################################################')\n",
    "print(f'######### Username: {student[\"username\"]} ######################')\n",
    "print('##################################################')\n",
    "print(f'######### Full name: {student[\"firstname\"]} {student[\"lastname\"]} ################')\n",
    "print('##################################################')\n",
    "      \n",
    "if student['status']: \n",
    "      print('User can login')\n",
    "else:\n",
    "      print('User can`t login')\n",
    "      \n",
    "\n",
    "if 'Python' in student['classes']:\n",
    "      print(f'## User attends Python class')\n",
    "if 'Terraform' in student['classes']:\n",
    "      print(f'## User attends Terraform class')\n",
    "if 'Ansible' in student['classes']:\n",
    "      print(f'## User attends Ansible class')"
   ]
  },
  {
   "cell_type": "code",
   "execution_count": 73,
   "metadata": {},
   "outputs": [
    {
     "name": "stdout",
     "output_type": "stream",
     "text": [
      "##################################################\n",
      "######### information about Abdul sharik #########\n",
      "##################################################\n",
      "######### Username: asharik ######################\n",
      "##################################################\n",
      "######### Full name: Abdul sharik ################\n",
      "##################################################\n",
      "User can`t login\n",
      "## User attends Python class\n",
      "## User attends Ansible class\n"
     ]
    }
   ],
   "source": [
    "student = {\n",
    "    'firstname': 'Abdul',\n",
    "    'lastname': 'sharik',\n",
    "    'username': 'asharik',\n",
    "    'password': 'redhat2019',\n",
    "    'status': False,\n",
    "    'classes': ['Python', 'Terraform', 'Ansible']\n",
    "}\n",
    "\n",
    "print('##################################################')\n",
    "print(f'######### information about {student[\"firstname\"]} {student[\"lastname\"]} #########')\n",
    "print('##################################################')\n",
    "print(f'######### Username: {student[\"username\"]} ######################')\n",
    "print('##################################################')\n",
    "print(f'######### Full name: {student[\"firstname\"]} {student[\"lastname\"]} ################')\n",
    "print('##################################################')\n",
    "      \n",
    "if student['status']: \n",
    "      print('User can login')\n",
    "else:\n",
    "      print('User can`t login')\n",
    "      \n",
    "\n",
    "if 'Python' in student['classes']:\n",
    "      print(f'## User attends Python class')\n",
    "elif 'Terraform' in student['classes']:\n",
    "      print(f'## User attends Terraform class')\n",
    "if 'Ansible' in student['classes']:\n",
    "      print(f'## User attends Ansible class')"
   ]
  },
  {
   "cell_type": "code",
   "execution_count": null,
   "metadata": {},
   "outputs": [],
   "source": []
  }
 ],
 "metadata": {
  "kernelspec": {
   "display_name": "Python 3",
   "language": "python",
   "name": "python3"
  },
  "language_info": {
   "codemirror_mode": {
    "name": "ipython",
    "version": 3
   },
   "file_extension": ".py",
   "mimetype": "text/x-python",
   "name": "python",
   "nbconvert_exporter": "python",
   "pygments_lexer": "ipython3",
   "version": "3.6.5"
  }
 },
 "nbformat": 4,
 "nbformat_minor": 2
}
