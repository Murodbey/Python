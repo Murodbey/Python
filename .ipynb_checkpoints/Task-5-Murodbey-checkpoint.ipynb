{
 "cells": [
  {
   "cell_type": "code",
   "execution_count": 32,
   "metadata": {},
   "outputs": [
    {
     "name": "stdout",
     "output_type": "stream",
     "text": [
      "5\n"
     ]
    }
   ],
   "source": [
    "import json\n",
    "\n",
    "with open('py_data.json') as data:\n",
    "    py_data = json.load(data)\n",
    "    \n",
    "def matched_repos(repo_name):\n",
    "    repos = []\n",
    "    for item in py_data['items']:\n",
    "        if(item['name'] == repo_name):\n",
    "            repos.append(item)\n",
    "    return(repos)\n",
    "\n",
    "print(len(matched_repos('webplatform-dev')))\n",
    "    "
   ]
  },
  {
   "cell_type": "code",
   "execution_count": 35,
   "metadata": {},
   "outputs": [
    {
     "data": {
      "text/plain": [
       "True"
      ]
     },
     "execution_count": 35,
     "metadata": {},
     "output_type": "execute_result"
    }
   ],
   "source": [
    "def does_repo_exists(repo_name):\n",
    "    for item in py_data['items']:\n",
    "        if (item['name'] == repo_name):\n",
    "            return True\n",
    "    return False\n",
    "    \n",
    "does_repo_exists('webplatform-dev')"
   ]
  },
  {
   "cell_type": "code",
   "execution_count": 39,
   "metadata": {},
   "outputs": [
    {
     "name": "stdout",
     "output_type": "stream",
     "text": [
      "Repo is not found\n",
      "Repo is not found\n",
      "Repo is not found\n",
      "Repo is not found\n",
      "Repo is not found\n",
      "Repo is not found\n",
      "Repo is not found\n",
      "Repo is not found\n",
      "Repo is not found\n",
      "Repo is not found\n"
     ]
    }
   ],
   "source": [
    "def update_repo(repo_id, repo_name=None, repo_group=None, repo_version=None, repo_format=None):\n",
    "    for item in py_data['items']:\n",
    "        if(item['id'] == repo_id):\n",
    "            if repo_name:\n",
    "                item['name'] = repo_name\n",
    "                print('Updated: repo name')\n",
    "            if repo_group:\n",
    "                item['group'] = repo_name\n",
    "                print('Updated: repo group')\n",
    "            if repo_version:\n",
    "                item['version'] = repo_name\n",
    "                print('Updated: repo version')\n",
    "            if repo_format:\n",
    "                item['format'] = repo_name\n",
    "                print('Updated: repo format')\n",
    "            return\n",
    "        print('Repo is not found')\n",
    "    \n",
    "update_repo('')   "
   ]
  },
  {
   "cell_type": "code",
   "execution_count": 25,
   "metadata": {},
   "outputs": [
    {
     "name": "stdout",
     "output_type": "stream",
     "text": [
      "160.0\n"
     ]
    }
   ],
   "source": [
    "def kilometers(miles):\n",
    "    kilos = miles*1.6\n",
    "    return kilos\n",
    "\n",
    "my_kilometers = kilometers(100)\n",
    "print(my_kilometers)"
   ]
  },
  {
   "cell_type": "code",
   "execution_count": null,
   "metadata": {},
   "outputs": [],
   "source": []
  }
 ],
 "metadata": {
  "kernelspec": {
   "display_name": "Python 3",
   "language": "python",
   "name": "python3"
  },
  "language_info": {
   "codemirror_mode": {
    "name": "ipython",
    "version": 3
   },
   "file_extension": ".py",
   "mimetype": "text/x-python",
   "name": "python",
   "nbconvert_exporter": "python",
   "pygments_lexer": "ipython3",
   "version": "3.6.5"
  }
 },
 "nbformat": 4,
 "nbformat_minor": 2
}
