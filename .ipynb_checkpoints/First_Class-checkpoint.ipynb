{
 "cells": [
  {
   "cell_type": "code",
   "execution_count": 19,
   "metadata": {},
   "outputs": [
    {
     "name": "stdout",
     "output_type": "stream",
     "text": [
      "THIS IS MY STRING\n",
      "this is my string\n",
      "This is my string\n"
     ]
    }
   ],
   "source": [
    "my_string = 'THIS is my string'\n",
    "\n",
    "print(my_string.upper())\n",
    "print(my_string.lower())\n",
    "print(my_string.capitalize())\n",
    "\n",
    "#my_second_string = 'murodbey'\n",
    "\n",
    "#city = 'london'\n",
    "#fix = city.capitalize()\n",
    "#print(fix)\n",
    "\n",
    "#dir(my_second_string)\n",
    "#print(my_second_string.capitalize())"
   ]
  },
  {
   "cell_type": "code",
   "execution_count": 32,
   "metadata": {},
   "outputs": [
    {
     "name": "stdout",
     "output_type": "stream",
     "text": [
      "This\n",
      "is\n",
      "my\n",
      "String\n",
      "This is my String\n"
     ]
    }
   ],
   "source": [
    "mydata = 'This is my String'\n",
    "mydata.split(' ')\n",
    "\n",
    "mydata = 'This is my String'\n",
    "mydata.split('is')\n",
    "\n",
    "mydata = 'This is my String'\n",
    "word1, word2, word3, word4 = mydata.split(' ')\n",
    "print(word1)\n",
    "print(word2)\n",
    "print(word3)\n",
    "print(word4)\n",
    "\n",
    "mydata = 'This is my String'\n",
    "word1, word2, word3, word4 = mydata.split(' ')\n",
    "total = f'{word1} {word2} {word3} {word4}'\n",
    "print(total)"
   ]
  },
  {
   "cell_type": "code",
   "execution_count": 36,
   "metadata": {},
   "outputs": [
    {
     "name": "stdout",
     "output_type": "stream",
     "text": [
      "This is my String\n",
      "is my\n"
     ]
    }
   ],
   "source": [
    "mydata = 'This is my String'\n",
    "word1, word2, word3, word4 = mydata.split(' ')\n",
    "\n",
    "total = f'{word1} {word2} {word3} {word4}'\n",
    "\n",
    "print(total)\n",
    "print(total[5:10])"
   ]
  },
  {
   "cell_type": "code",
   "execution_count": 40,
   "metadata": {},
   "outputs": [
    {
     "name": "stdout",
     "output_type": "stream",
     "text": [
      "This is my string\n"
     ]
    }
   ],
   "source": [
    "my_string = ' this is my string '\n",
    "print(my_string.strip().capitalize())"
   ]
  },
  {
   "cell_type": "code",
   "execution_count": 41,
   "metadata": {},
   "outputs": [
    {
     "name": "stdout",
     "output_type": "stream",
     "text": [
      "This is my string\n"
     ]
    }
   ],
   "source": [
    "my_string = 'This-is-my-string'\n",
    "print(my_string.replace('-', ' '))"
   ]
  },
  {
   "cell_type": "code",
   "execution_count": null,
   "metadata": {},
   "outputs": [],
   "source": []
  }
 ],
 "metadata": {
  "kernelspec": {
   "display_name": "Python 3",
   "language": "python",
   "name": "python3"
  },
  "language_info": {
   "codemirror_mode": {
    "name": "ipython",
    "version": 3
   },
   "file_extension": ".py",
   "mimetype": "text/x-python",
   "name": "python",
   "nbconvert_exporter": "python",
   "pygments_lexer": "ipython3",
   "version": "3.6.5"
  }
 },
 "nbformat": 4,
 "nbformat_minor": 2
}
