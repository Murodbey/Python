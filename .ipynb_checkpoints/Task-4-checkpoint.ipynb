{
 "cells": [
  {
   "cell_type": "code",
   "execution_count": null,
   "metadata": {},
   "outputs": [],
   "source": [
    "from common_lib.say_hello import print_hello\n",
    "print_hello()"
   ]
  },
  {
   "cell_type": "code",
   "execution_count": 12,
   "metadata": {},
   "outputs": [
    {
     "name": "stdout",
     "output_type": "stream",
     "text": [
      "docker/nwebplatform-dev\n",
      "0.10\n",
      "webplatform\n",
      "\n",
      "docker/nwebplatform-qa\n",
      "0.6\n",
      "webplatform\n",
      "\n",
      "docker/nwebplatform-prod\n",
      "0.9\n",
      "webplatform\n",
      "\n",
      "docker/nwebplatform-dev\n",
      "0.11\n",
      "webplatform\n",
      "\n",
      "docker/nwebplatform-dev\n",
      "0.12\n",
      "webplatform\n",
      "\n",
      "docker/nwebplatform-dev\n",
      "0.13\n",
      "webplatform\n",
      "\n",
      "docker/nwebplatform-prod\n",
      "0.10\n",
      "webplatform\n",
      "\n",
      "docker/nwebplatform-prod\n",
      "0.11\n",
      "webplatform\n",
      "\n",
      "docker/nwebplatform-qa\n",
      "0.7\n",
      "webplatform\n",
      "\n",
      "docker/nwebplatform-dev\n",
      "0.14\n",
      "webplatform\n",
      "\n"
     ]
    }
   ],
   "source": [
    "import json\n",
    "with open('py_data.json') as py_data_json:\n",
    "    data = json.load(py_data_json)\n",
    "    \n",
    "def print_list():\n",
    "    for item in data['items']:\n",
    "        print(item['format'] + '/n' + item['name'] + '\\n' + item['version'] + '\\n' + item['repository'] + '\\n')\n",
    "        \n",
    "print_list()"
   ]
  },
  {
   "cell_type": "code",
   "execution_count": 14,
   "metadata": {},
   "outputs": [
    {
     "data": {
      "text/plain": [
       "[{'id': 'd2VicGxhdGZvcm06Yzc3MDE2OWMwYjJlM2VkOGY2ZDY5ZjQzMWRmYzE4ODU',\n",
       "  'repository': 'webplatform',\n",
       "  'format': 'docker',\n",
       "  'group': None,\n",
       "  'name': 'webplatform-qa',\n",
       "  'version': '0.6',\n",
       "  'assets': [{'downloadUrl': 'https://nexus.fuchicorp.com/repository/webplatform/v2/webplatform-qa/manifests/0.6',\n",
       "    'path': 'v2/webplatform-qa/manifests/0.6',\n",
       "    'id': 'd2VicGxhdGZvcm06MzZlM2RlYzhkZTUyOGM5YjA2MjFjMGZiMDIyMDQyMzM',\n",
       "    'repository': 'webplatform',\n",
       "    'format': 'docker',\n",
       "    'checksum': {'sha1': '0e2792ff34433b42ba52449b4e1c20fe91b51c29',\n",
       "     'sha256': 'd58edae3c6ca96ea829287c662212eb5730d40fd9d8f271806acea67c0a7a602'}}]},\n",
       " {'id': 'd2VicGxhdGZvcm06Yzc3MDE2OWMwYjJlM2VkOGFlMGNlYmU1YmFlODAwMGM',\n",
       "  'repository': 'webplatform',\n",
       "  'format': 'docker',\n",
       "  'group': None,\n",
       "  'name': 'webplatform-qa',\n",
       "  'version': '0.7',\n",
       "  'assets': [{'downloadUrl': 'https://nexus.fuchicorp.com/repository/webplatform/v2/webplatform-qa/manifests/0.7',\n",
       "    'path': 'v2/webplatform-qa/manifests/0.7',\n",
       "    'id': 'd2VicGxhdGZvcm06MzZlM2RlYzhkZTUyOGM5YjliNDJkNTI2NjUxMDNhODM',\n",
       "    'repository': 'webplatform',\n",
       "    'format': 'docker',\n",
       "    'checksum': {'sha1': '8250c9d55cc0a813719e2c6535b213fc6efed826',\n",
       "     'sha256': '7414efd7c9f78fdc20231f99168129853abd2b0b81ac54bc6c97f6286e658e04'}}]}]"
      ]
     },
     "execution_count": 14,
     "metadata": {},
     "output_type": "execute_result"
    }
   ],
   "source": [
    "def findRepository(env):\n",
    "    repos = []\n",
    "    for item in data['items']:\n",
    "        if(env == item['name'].split('-')[-1]):\n",
    "            repos.append(item)\n",
    "    return repos\n",
    "\n",
    "        \n",
    "findRepository('qa')"
   ]
  },
  {
   "cell_type": "code",
   "execution_count": 17,
   "metadata": {},
   "outputs": [
    {
     "name": "stdout",
     "output_type": "stream",
     "text": [
      "Which version are you looking for? : 34\n",
      "Version doesn't exists\n",
      "Do you want to continue? y/n y\n",
      "Which version are you looking for? : gf\n",
      "Version doesn't exists\n",
      "Do you want to continue? y/n n\n"
     ]
    }
   ],
   "source": [
    "def checkVersion():\n",
    "    while True: #while True makes it infinite times(repetable)\n",
    "        version = input(\"Which version are you looking for? : \")\n",
    "        for item in data['items']:\n",
    "            if(item['version'] == version):\n",
    "                print('Version exists')\n",
    "                break\n",
    "        else:\n",
    "            print('Version doesn\\'t exists')\n",
    "        answer = input(\"Do you want to continue? y/n \")\n",
    "        if(answer == 'y'):\n",
    "            continue\n",
    "        else:\n",
    "            break\n",
    "        \n",
    "checkVersion()"
   ]
  },
  {
   "cell_type": "code",
   "execution_count": null,
   "metadata": {},
   "outputs": [],
   "source": []
  }
 ],
 "metadata": {
  "kernelspec": {
   "display_name": "Python 3",
   "language": "python",
   "name": "python3"
  },
  "language_info": {
   "codemirror_mode": {
    "name": "ipython",
    "version": 3
   },
   "file_extension": ".py",
   "mimetype": "text/x-python",
   "name": "python",
   "nbconvert_exporter": "python",
   "pygments_lexer": "ipython3",
   "version": "3.6.5"
  }
 },
 "nbformat": 4,
 "nbformat_minor": 2
}
